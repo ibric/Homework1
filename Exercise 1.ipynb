{
 "cells": [
  {
   "cell_type": "markdown",
   "metadata": {},
   "source": [
    "# Exercise 1\n",
    " <p><div class=\"lev1\"><a href=\"#Task-A.-Another-LEGO-brick-in-the-wall\"><span class=\"toc-item-num\">Task A.&nbsp;&nbsp;</span>Another LEGO brick in the wall</a></div>\n",
    " <p><div class=\"lev1\"><a href=\"#Task-B.-Drop-the-Bike\"><span class=\"toc-item-num\">Task B.&nbsp;&nbsp;</span>Drop the Bike</a></div>"
   ]
  },
  {
   "cell_type": "code",
   "execution_count": 1,
   "metadata": {},
   "outputs": [],
   "source": [
    "# Add your imports here\n",
    "%matplotlib inline\n",
    "import numpy as np\n",
    "import pandas as pd\n",
    "pd.options.mode.chained_assignment = None"
   ]
  },
  {
   "cell_type": "code",
   "execution_count": 2,
   "metadata": {},
   "outputs": [],
   "source": [
    "DATA_FOLDER = 'data'"
   ]
  },
  {
   "cell_type": "markdown",
   "metadata": {},
   "source": [
    "## Task A. Another LEGO brick in the wall\n",
    "\n",
    "LEGO is a popular brand of toy building bricks. They are often sold in sets in order to build a specific object. Each set contains a number of parts in different shapes, sizes and colors. This database contains information on which parts are included in different LEGO sets. It was originally compiled to help people who owned some LEGO sets already figure out what other sets they could build with the pieces they had.\n",
    "\n",
    "This dataset contains the official LEGO colors, parts, inventories (i.e., sets of LEGO parts which assembled create an object in the LEGO world) and sets (i.e., sets of LEGO inventories which assembled create a LEGO ecosystem). The schema of the dataset can be shown in the following UML diagram: \n",
    "\n",
    "![lego-schema](lego-schema.png)\n",
    "\n",
    "In this task you have to apply the following Data Wrangling pipeline:\n",
    "1. Load your data into `Pandas`\n",
    "* Explore it and clean its dirty parts\n",
    "* Use it to answer a set of queries\n",
    "\n",
    "Each of these subtasks are described in detail below."
   ]
  },
  {
   "cell_type": "markdown",
   "metadata": {},
   "source": [
    "### A1. Loading phase\n",
    "Load all the csv files into different `DataFrames`. Use meaningful names for your `DataFrames` (e.g., the respective filenames).\n",
    "\n",
    "*Hint: You can load files without first unzipping them (for `Pandas` version >= 0.18.1).*"
   ]
  },
  {
   "cell_type": "code",
   "execution_count": 3,
   "metadata": {},
   "outputs": [],
   "source": [
    "LEGO_DATA_FOLDER = DATA_FOLDER + '/lego'"
   ]
  },
  {
   "cell_type": "code",
   "execution_count": 4,
   "metadata": {},
   "outputs": [],
   "source": [
    "# Write your code here\n",
    "themes = pd.read_csv(LEGO_DATA_FOLDER + '/themes.csv.zip') #, dtype={''}\n",
    "colors = pd.read_csv(LEGO_DATA_FOLDER + '/colors.csv.zip')\n",
    "inventories = pd.read_csv(LEGO_DATA_FOLDER + '/inventories.csv.zip')\n",
    "inventory_parts = pd.read_csv(LEGO_DATA_FOLDER + '/inventory_parts.csv.zip')\n",
    "inventory_sets = pd.read_csv(LEGO_DATA_FOLDER + '/inventory_sets.csv.zip')\n",
    "part_categories = pd.read_csv(LEGO_DATA_FOLDER + '/part_categories.csv.zip')\n",
    "parts = pd.read_csv(LEGO_DATA_FOLDER + '/parts.csv.zip')\n",
    "sets = pd.read_csv(LEGO_DATA_FOLDER + '/sets.csv.zip')"
   ]
  },
  {
   "cell_type": "markdown",
   "metadata": {},
   "source": [
    "### A2. Cleaning phase\n",
    "Explore the following columns from your dataset:\n",
    "\n",
    "1. sets: year\n",
    "* inventory_parts: quantity\n",
    "\n",
    "What is the time range of the sets? \n",
    "What is the average quantity of the inventory parts? \n",
    "Do you see any inconsistencies? \n",
    "Provide code that detects and cleans such inconsistencies and validates the coherence of your dataset. "
   ]
  },
  {
   "cell_type": "markdown",
   "metadata": {},
   "source": [
    "time range of the sets:"
   ]
  },
  {
   "cell_type": "code",
   "execution_count": 5,
   "metadata": {},
   "outputs": [
    {
     "name": "stdout",
     "output_type": "stream",
     "text": [
      "0           70s\n",
      "7         19788\n",
      "11645    -20122\n",
      "11643     -2014\n",
      "Name: year, dtype: object\n"
     ]
    }
   ],
   "source": [
    "print(sets.year.iloc[[0, 7, 11645, 11643]])"
   ]
  },
  {
   "cell_type": "code",
   "execution_count": 6,
   "metadata": {},
   "outputs": [
    {
     "name": "stdout",
     "output_type": "stream",
     "text": [
      "year type: int64\n",
      "year min: 1950\n",
      "year max: 2017\n"
     ]
    }
   ],
   "source": [
    "# we define a function that deals with every one of those cases\n",
    "# we assumed the following:\n",
    "# 70s -> 1970\n",
    "# negative year -> ignore negative sign\n",
    "# 20122 -> the two last digits are redundant: remove the last one.\n",
    "def read_year(year_s):\n",
    "    try:\n",
    "        year = int(year_s)\n",
    "        if year < 0:\n",
    "            year = -year\n",
    "        if year > 2018:\n",
    "            return read_year(year_s[:-1])\n",
    "        else:\n",
    "            return year\n",
    "    except ValueError:\n",
    "        return 1900 + read_year(year_s[:-1])\n",
    "    \n",
    "year_clean = sets.year.apply(read_year)\n",
    "\n",
    "# as the resulted type is integers (-> no NAN values) and the range is reasonnable, data is coherent \n",
    "print('year type:', year_clean.dtype)\n",
    "print('year min:', year_clean.min())\n",
    "print('year max:', year_clean.max())"
   ]
  },
  {
   "cell_type": "code",
   "execution_count": 7,
   "metadata": {},
   "outputs": [
    {
     "name": "stdout",
     "output_type": "stream",
     "text": [
      "9   -inf\n",
      "Name: quantity, dtype: float64\n"
     ]
    }
   ],
   "source": [
    "# there is only one kind of inconsistency in the inventory parts quantities\n",
    "print(inventory_parts.quantity.iloc[[9]])"
   ]
  },
  {
   "cell_type": "code",
   "execution_count": 8,
   "metadata": {},
   "outputs": [
    {
     "name": "stdout",
     "output_type": "stream",
     "text": [
      "number of NAN values: 0\n",
      "parts quantity mean: 2.7670542575540584\n"
     ]
    }
   ],
   "source": [
    "# to deal with those, we define a function that returns quantities as integers\n",
    "# a reasonable default value on inconsistency is 0\n",
    "def read_quantity(quantity):\n",
    "    return 0 if quantity == float('-inf') else int(quantity)\n",
    "\n",
    "quantity_clean = inventory_parts.quantity.apply(read_quantity)\n",
    "\n",
    "# applying that function leads to no NAN values and the given mean\n",
    "print('number of NAN values:', quantity_clean.map(np.isnan).sum())\n",
    "print('parts quantity mean:', quantity_clean.mean())"
   ]
  },
  {
   "cell_type": "markdown",
   "metadata": {},
   "source": [
    "__\\* Briefly explain your approach here \\*__"
   ]
  },
  {
   "cell_type": "markdown",
   "metadata": {},
   "source": [
    "### A3. Querying phase\n",
    "Answer the following queries using the functionality of `Pandas`:\n",
    "\n",
    "1. List the ids of the inventories that belong to sets that contain cars. (*Hint: Find a smart way to distinguish which sets contain cars based on the sets' name*).\n",
    "* Plot the distribution of part categories as a (horizontal) bar chart. Restrict yourself to the 20 largest part categories (in terms of the number of parts belonging to the category).\n",
    "* Find the dominant color of each set. Then, plot using a (horizontal) bar chart, the number of sets per dominant color. Color each bar with the respective color that it represents.\n",
    "* Create a scatter plot of the *luminance*\\* of the sets vs their publishing year. What do you observe for the years 1980-1981? How do you interpret what you see?\n",
    "\n",
    "\\*The luminance of a color is a [measure of brightness](https://en.wikipedia.org/wiki/Luminance) which, given its RGB representation, can be computed as follows:\n",
    "\n",
    "$luminance = \\sqrt{0.299*R^2 + 0.587*G^2 + 0.114*B^2}$"
   ]
  },
  {
   "cell_type": "code",
   "execution_count": 9,
   "metadata": {},
   "outputs": [
    {
     "data": {
      "text/plain": [
       "array([13941, 10158, 13083,  5358, 13380,  8202, 12137, 10770, 10995,\n",
       "        4536, 16131,  1716,  3755, 10406, 10993,  1645, 14174,  7430,\n",
       "        9709, 14711, 12851, 10515, 14919,  2814, 15010, 16138,  5904,\n",
       "        7151, 11966,  8140,  1726,  2643,  6066,  1649,  6530, 14011,\n",
       "        2677,  5491,  2917,  6086, 10421, 16159,  9329, 11759,  1899,\n",
       "        2849,  4643,  1371, 13427,  2836,  8950,   528, 14493,  9210,\n",
       "         908,  2636, 11050, 11190,  9033,  1732,  3764,  1401,  4430,\n",
       "        5110,  9178, 13355,  2559,  6296, 10028, 12110,  1205,  1418,\n",
       "        3109,  4261,  4969,  5857, 11861, 15192, 15694, 13696,  7363,\n",
       "        5432,  4051,  8820,   263,  5600,    35, 11935,  9426,  7881,\n",
       "        9599, 10043, 16023, 16034,  9502, 13370, 14328, 14931,  4187,\n",
       "       13398,  6702,  8348,  9406, 14154,  4278,   962,  6276, 11436,\n",
       "        1334,  3435,  8331,  3699,  8980,  4832,  9381, 12830, 12437,\n",
       "        4467,  2258,  8585,   500,  2114], dtype=int64)"
      ]
     },
     "execution_count": 9,
     "metadata": {},
     "output_type": "execute_result"
    }
   ],
   "source": [
    "### Task A3.1: ids of the inventories that belong to sets that contain cars.\n",
    "# We had to spot all car related keywords and brands used in the sets' names.\n",
    "car_keywords = ['car', 'truck', 'Rolls-Royce' , 'Cadillac' , 'Renault' , 'Ford' , 'Berlinetta' , 'Audi' , 'Chevrolet' , 'Ferrari' , 'Lamborghini' , 'McLaren' , 'Mercedes' , 'Porsche' , 'VW' ]\n",
    "\n",
    "# Based on those we discriminated car sets with the following method\n",
    "# We remain careful about the case of strings by systematically lowering them.\n",
    "car_keywords = list(map(lambda s: s.lower(), car_keywords))\n",
    "def car(s):\n",
    "    s = s.lower()\n",
    "    for keyword in car_keywords:\n",
    "        if(keyword in s):\n",
    "            return True\n",
    "    return False\n",
    "\n",
    "# we then merge the filtered sets with the inventories and print the unique resulting inventoriy ids.\n",
    "pd.merge(sets[sets.name.apply(car)], inventory_sets, left_on='id', right_on='set_id').inventory_id.unique()"
   ]
  },
  {
   "cell_type": "code",
   "execution_count": 10,
   "metadata": {},
   "outputs": [
    {
     "data": {
      "text/plain": [
       "<matplotlib.axes._subplots.AxesSubplot at 0x19a42696358>"
      ]
     },
     "execution_count": 10,
     "metadata": {},
     "output_type": "execute_result"
    },
    {
     "data": {
      "image/png": "[encoded data removed]",
      "text/plain": [
       "<Figure size 432x288 with 1 Axes>"
      ]
     },
     "metadata": {},
     "output_type": "display_data"
    }
   ],
   "source": [
    "### Task A3.2: distribution of part categories\n",
    "# get the count of parts for a category id\n",
    "df = parts.groupby('part_cat_id').size().to_frame('count').reset_index('part_cat_id')\n",
    "# keep the 20 largest\n",
    "df = df.sort_values('count', ascending=False).head(20)\n",
    "# merge with catogory name\n",
    "df = pd.merge(df, part_categories, left_on='part_cat_id', right_on='id')\n",
    "# plot the chart\n",
    "df.plot.barh(x='name', y='count')"
   ]
  },
  {
   "cell_type": "code",
   "execution_count": 11,
   "metadata": {},
   "outputs": [],
   "source": [
    "# define function to get actual (r,g,b) values from hex value\n",
    "# this function is needed for Task A3.3 and A3.4.\n",
    "def hex_to_rgb(hex):\n",
    "    return tuple(int(hex[i:i+2], 16)/255 for i in (0, 2 ,4))"
   ]
  },
  {
   "cell_type": "code",
   "execution_count": 12,
   "metadata": {},
   "outputs": [
    {
     "data": {
      "text/plain": [
       "<matplotlib.axes._subplots.AxesSubplot at 0x19a408fbe80>"
      ]
     },
     "execution_count": 12,
     "metadata": {},
     "output_type": "execute_result"
    },
    {
     "data": {
      "image/png": "[encoded data removed]",
      "text/plain": [
       "<Figure size 432x288 with 1 Axes>"
      ]
     },
     "metadata": {},
     "output_type": "display_data"
    }
   ],
   "source": [
    "### Task A3.3.a: Find the dominant color of each set. \n",
    "# as the definition of what a 'dominant color' is isn't given, we'll assume the following:\n",
    "# it is the color that hast the most number of parts with that color.\n",
    "# so we'll need to compute, for each set, the number of parts wich each colors and take the one that is the more represented.\n",
    "# get cleaned inventory_parts (after Task A2)\n",
    "df = inventory_parts.copy().drop('quantity', axis='columns')\n",
    "df['inventory_quantity'] = quantity_clean\n",
    "# merge that with parts and keep only the needed columns\n",
    "df = pd.merge(inventory_sets, df, on='inventory_id').drop(['is_spare', 'inventory_id', 'part_id'], axis='columns')\n",
    "# compute the total number of parts and drop unnecessary columns\n",
    "df['part_quantity'] = df.quantity * df.inventory_quantity\n",
    "df.drop(['inventory_quantity', 'quantity'], axis='columns', inplace=True)\n",
    "# get the best colors \n",
    "df = df.groupby(['set_id', 'color_id'])['part_quantity'].sum().reset_index()\n",
    "df.iloc[df.groupby('set_id')['part_quantity'].idxmax()]\n",
    "# merge with colors to get actual colors name and rgb\n",
    "set_colors = pd.merge(df, colors, left_on='color_id', right_on='id')[['set_id', 'name', 'rgb']]\n",
    "\n",
    "### Task A3.3.b Plot the number of sets per dominant color. Color each bar with the respective color that it represents.\n",
    "# get the cout of set per color\n",
    "df = set_colors.groupby('rgb').size().to_frame('count').reset_index('rgb')\n",
    "# plot it\n",
    "df.plot(kind='barh', x='rgb', y='count', color=map(lambda c: (hex_to_rgb(c)), df['rgb']))"
   ]
  },
  {
   "cell_type": "code",
   "execution_count": 13,
   "metadata": {},
   "outputs": [
    {
     "data": {
      "text/plain": [
       "<matplotlib.axes._subplots.AxesSubplot at 0x19a40f87a58>"
      ]
     },
     "execution_count": 13,
     "metadata": {},
     "output_type": "execute_result"
    },
    {
     "data": {
      "image/png": "[encoded data removed]",
      "text/plain": [
       "<Figure size 432x288 with 1 Axes>"
      ]
     },
     "metadata": {},
     "output_type": "display_data"
    }
   ],
   "source": [
    "### Task A3.4: luminance* of the sets vs their publishing year\n",
    "# define the luminance function\n",
    "def luminance(hex):\n",
    "    r,g,b = hex_to_rgb(hex)\n",
    "    return np.sqrt(0.299*r*r + 0.587*g*g + 0.114*b*b)\n",
    "\n",
    "# get cleaned year with associated color via set ids\n",
    "df = sets.copy()[['id']]\n",
    "df['year'] = year_clean\n",
    "df = pd.merge(df, set_colors, left_on='id', right_on='set_id')\n",
    "\n",
    "# compute luminance\n",
    "df['luminance'] = df.rgb.map(luminance)\n",
    "\n",
    "# plot it\n",
    "df.plot.scatter(x='year', y='luminance')\n",
    "# we can observe that the luminance as well as the number of set published per year is going down for the last 20 years"
   ]
  },
  {
   "cell_type": "markdown",
   "metadata": {},
   "source": [
    "In first part we go through the data and find all the names of car brands and store them in the list keywords.\n",
    "After that we go through the data and list all ids of sets which contain car name in it.\n",
    "\n",
    "In second part\n",
    "\n",
    "In the last part we see that luminance decreases during last few years and we have fewer sets in those years(after 2010)."
   ]
  },
  {
   "cell_type": "markdown",
   "metadata": {},
   "source": [
    "## Task B. Drop the bike\n",
    "\n",
    "*Los Angeles Metro* has been sharing publicly [anonymized *Metro Bike Share* trip data](https://bikeshare.metro.net/about/data/) under the [Open Database License (ODbL)](http://opendatacommons.org/licenses/odbl/1.0/).\n",
    "\n",
    "In this task you will again perform data wrangling and interpretation."
   ]
  },
  {
   "cell_type": "markdown",
   "metadata": {},
   "source": [
    "### B1. Loading phase\n",
    "Load the json file into a `DataFrame`.\n"
   ]
  },
  {
   "cell_type": "code",
   "execution_count": 14,
   "metadata": {},
   "outputs": [],
   "source": [
    "BIKES_DATA_FOLDER = DATA_FOLDER + '/bikes'"
   ]
  },
  {
   "cell_type": "code",
   "execution_count": 15,
   "metadata": {},
   "outputs": [
    {
     "name": "stdout",
     "output_type": "stream",
     "text": [
      "382 staff trips, 1330 missing info trips\n",
      "Total number of trips: 132427\n"
     ]
    }
   ],
   "source": [
    "import numpy as np \n",
    "import pandas as pd\n",
    "from datetime import datetime\n",
    "from collections import Counter\n",
    "import warnings\n",
    "warnings.filterwarnings(\"ignore\")\n",
    "\n",
    "ori_bikes = pd.read_json(BIKES_DATA_FOLDER+\"/metro-bike-share-trip-data.json.zip\",compression=\"zip\")\n",
    "normal_ori_bikes = ori_bikes[ori_bikes[\"Passholder Type\"]!=\"Staff Annual\"].reset_index()\n",
    "data_bikes = normal_ori_bikes.dropna(how=\"any\")\n",
    "nan_vals = normal_ori_bikes.iloc[list(set(normal_ori_bikes.index)-set(data_bikes.index))]\n",
    "\n",
    "print (\"%d staff trips, %d missing info trips\"%(ori_bikes[ori_bikes[\"Passholder Type\"]==\"Staff Annual\"].shape[0],\n",
    "                                               len(nan_vals)))\n",
    "print(\"Total number of trips: %d\" %ori_bikes.shape[0])"
   ]
  },
  {
   "cell_type": "code",
   "execution_count": 16,
   "metadata": {},
   "outputs": [
    {
     "data": {
      "text/html": [
       "<div>\n",
       "<style scoped>\n",
       "    .dataframe tbody tr th:only-of-type {\n",
       "        vertical-align: middle;\n",
       "    }\n",
       "\n",
       "    .dataframe tbody tr th {\n",
       "        vertical-align: top;\n",
       "    }\n",
       "\n",
       "    .dataframe thead th {\n",
       "        text-align: right;\n",
       "    }\n",
       "</style>\n",
       "<table border=\"1\" class=\"dataframe\">\n",
       "  <thead>\n",
       "    <tr style=\"text-align: right;\">\n",
       "      <th></th>\n",
       "      <th>index</th>\n",
       "      <th>Bike ID</th>\n",
       "      <th>Duration</th>\n",
       "      <th>End Time</th>\n",
       "      <th>Ending Station ID</th>\n",
       "      <th>Ending Station Latitude</th>\n",
       "      <th>Ending Station Longitude</th>\n",
       "      <th>Passholder Type</th>\n",
       "      <th>Plan Duration</th>\n",
       "      <th>Start Time</th>\n",
       "      <th>Starting Station ID</th>\n",
       "      <th>Starting Station Latitude</th>\n",
       "      <th>Starting Station Longitude</th>\n",
       "      <th>Trip ID</th>\n",
       "      <th>Trip Route Category</th>\n",
       "    </tr>\n",
       "  </thead>\n",
       "  <tbody>\n",
       "    <tr>\n",
       "      <th>0</th>\n",
       "      <td>0</td>\n",
       "      <td>6281</td>\n",
       "      <td>180</td>\n",
       "      <td>2016-07-07 04:20:00</td>\n",
       "      <td>3014</td>\n",
       "      <td>34.05661</td>\n",
       "      <td>-118.23721</td>\n",
       "      <td>Monthly Pass</td>\n",
       "      <td>30</td>\n",
       "      <td>2016-07-07 04:17:00</td>\n",
       "      <td>3014</td>\n",
       "      <td>34.05661</td>\n",
       "      <td>-118.23721</td>\n",
       "      <td>1912818</td>\n",
       "      <td>Round Trip</td>\n",
       "    </tr>\n",
       "    <tr>\n",
       "      <th>1</th>\n",
       "      <td>1</td>\n",
       "      <td>6281</td>\n",
       "      <td>1980</td>\n",
       "      <td>2016-07-07 06:33:00</td>\n",
       "      <td>3014</td>\n",
       "      <td>34.05661</td>\n",
       "      <td>-118.23721</td>\n",
       "      <td>Monthly Pass</td>\n",
       "      <td>30</td>\n",
       "      <td>2016-07-07 06:00:00</td>\n",
       "      <td>3014</td>\n",
       "      <td>34.05661</td>\n",
       "      <td>-118.23721</td>\n",
       "      <td>1919661</td>\n",
       "      <td>Round Trip</td>\n",
       "    </tr>\n",
       "  </tbody>\n",
       "</table>\n",
       "</div>"
      ],
      "text/plain": [
       "   index  Bike ID  Duration            End Time  Ending Station ID  \\\n",
       "0      0     6281       180 2016-07-07 04:20:00               3014   \n",
       "1      1     6281      1980 2016-07-07 06:33:00               3014   \n",
       "\n",
       "   Ending Station Latitude  Ending Station Longitude Passholder Type  \\\n",
       "0                 34.05661                -118.23721    Monthly Pass   \n",
       "1                 34.05661                -118.23721    Monthly Pass   \n",
       "\n",
       "   Plan Duration          Start Time  Starting Station ID  \\\n",
       "0             30 2016-07-07 04:17:00                 3014   \n",
       "1             30 2016-07-07 06:00:00                 3014   \n",
       "\n",
       "   Starting Station Latitude  Starting Station Longitude  Trip ID  \\\n",
       "0                   34.05661                  -118.23721  1912818   \n",
       "1                   34.05661                  -118.23721  1919661   \n",
       "\n",
       "  Trip Route Category  \n",
       "0          Round Trip  \n",
       "1          Round Trip  "
      ]
     },
     "execution_count": 16,
     "metadata": {},
     "output_type": "execute_result"
    }
   ],
   "source": [
    "data_bikes[\"Bike ID\"] = data_bikes[\"Bike ID\"].astype(\"int\")\n",
    "data_bikes[\"Starting Station ID\"] = data_bikes[\"Starting Station ID\"].astype(\"int\")\n",
    "data_bikes[\"Ending Station ID\"] = data_bikes[\"Ending Station ID\"].astype(\"int\")\n",
    "data_bikes[\"Plan Duration\"] = data_bikes[\"Plan Duration\"].astype(\"int\")\n",
    "data_bikes[\"Start Time\"] = [datetime.strptime(x,'%Y-%m-%dT%X') for x in data_bikes[\"Start Time\"]]\n",
    "data_bikes[\"End Time\"] = [datetime.strptime(x,'%Y-%m-%dT%X') for x in data_bikes[\"End Time\"]]\n",
    "data_bikes.head(2)"
   ]
  },
  {
   "cell_type": "markdown",
   "metadata": {},
   "source": [
    "### B2. Cleaning phase\n",
    "Describe the type and the value range of each attribute. Indicate and transform the attributes that are `Categorical`. Are there redundant columns in the dataset (i.e., are there columns whose value depends only on the value of another column)? What are the possible pitfalls of having such columns? Reduce *data redundancy* by extracting such columns to separate `DataFrames`. Which of the two formats (the initial one or the one with reduced data redundancy) is more susceptible to inconsistencies? At the end print for each `Dataframe` the *type of each column* and it's *shape*."
   ]
  },
  {
   "cell_type": "code",
   "execution_count": 17,
   "metadata": {},
   "outputs": [
    {
     "name": "stdout",
     "output_type": "stream",
     "text": [
      "Float Based Variables:\n"
     ]
    },
    {
     "data": {
      "text/html": [
       "<div>\n",
       "<style scoped>\n",
       "    .dataframe tbody tr th:only-of-type {\n",
       "        vertical-align: middle;\n",
       "    }\n",
       "\n",
       "    .dataframe tbody tr th {\n",
       "        vertical-align: top;\n",
       "    }\n",
       "\n",
       "    .dataframe thead th {\n",
       "        text-align: right;\n",
       "    }\n",
       "</style>\n",
       "<table border=\"1\" class=\"dataframe\">\n",
       "  <thead>\n",
       "    <tr style=\"text-align: right;\">\n",
       "      <th></th>\n",
       "      <th>Duration</th>\n",
       "      <th>Starting Station Latitude</th>\n",
       "      <th>Starting Station Longitude</th>\n",
       "      <th>Ending Station Latitude</th>\n",
       "      <th>Ending Station Longitude</th>\n",
       "    </tr>\n",
       "  </thead>\n",
       "  <tbody>\n",
       "    <tr>\n",
       "      <th>count</th>\n",
       "      <td>130715.000000</td>\n",
       "      <td>130715.000000</td>\n",
       "      <td>130715.000000</td>\n",
       "      <td>130715.000000</td>\n",
       "      <td>130715.000000</td>\n",
       "    </tr>\n",
       "    <tr>\n",
       "      <th>mean</th>\n",
       "      <td>1355.489577</td>\n",
       "      <td>34.039217</td>\n",
       "      <td>-118.221174</td>\n",
       "      <td>34.034565</td>\n",
       "      <td>-118.206422</td>\n",
       "    </tr>\n",
       "    <tr>\n",
       "      <th>std</th>\n",
       "      <td>4674.172366</td>\n",
       "      <td>0.532694</td>\n",
       "      <td>1.849996</td>\n",
       "      <td>0.652348</td>\n",
       "      <td>2.265617</td>\n",
       "    </tr>\n",
       "    <tr>\n",
       "      <th>min</th>\n",
       "      <td>60.000000</td>\n",
       "      <td>0.000000</td>\n",
       "      <td>-118.472832</td>\n",
       "      <td>0.000000</td>\n",
       "      <td>-118.472832</td>\n",
       "    </tr>\n",
       "    <tr>\n",
       "      <th>25%</th>\n",
       "      <td>360.000000</td>\n",
       "      <td>34.044170</td>\n",
       "      <td>-118.256980</td>\n",
       "      <td>34.044159</td>\n",
       "      <td>-118.256981</td>\n",
       "    </tr>\n",
       "    <tr>\n",
       "      <th>50%</th>\n",
       "      <td>600.000000</td>\n",
       "      <td>34.046822</td>\n",
       "      <td>-118.250954</td>\n",
       "      <td>34.046810</td>\n",
       "      <td>-118.250954</td>\n",
       "    </tr>\n",
       "    <tr>\n",
       "      <th>75%</th>\n",
       "      <td>1080.000000</td>\n",
       "      <td>34.050880</td>\n",
       "      <td>-118.241562</td>\n",
       "      <td>34.050480</td>\n",
       "      <td>-118.238810</td>\n",
       "    </tr>\n",
       "    <tr>\n",
       "      <th>max</th>\n",
       "      <td>86400.000000</td>\n",
       "      <td>34.064281</td>\n",
       "      <td>0.000000</td>\n",
       "      <td>34.064281</td>\n",
       "      <td>0.000000</td>\n",
       "    </tr>\n",
       "  </tbody>\n",
       "</table>\n",
       "</div>"
      ],
      "text/plain": [
       "            Duration  Starting Station Latitude  Starting Station Longitude  \\\n",
       "count  130715.000000              130715.000000               130715.000000   \n",
       "mean     1355.489577                  34.039217                 -118.221174   \n",
       "std      4674.172366                   0.532694                    1.849996   \n",
       "min        60.000000                   0.000000                 -118.472832   \n",
       "25%       360.000000                  34.044170                 -118.256980   \n",
       "50%       600.000000                  34.046822                 -118.250954   \n",
       "75%      1080.000000                  34.050880                 -118.241562   \n",
       "max     86400.000000                  34.064281                    0.000000   \n",
       "\n",
       "       Ending Station Latitude  Ending Station Longitude  \n",
       "count            130715.000000             130715.000000  \n",
       "mean                 34.034565               -118.206422  \n",
       "std                   0.652348                  2.265617  \n",
       "min                   0.000000               -118.472832  \n",
       "25%                  34.044159               -118.256981  \n",
       "50%                  34.046810               -118.250954  \n",
       "75%                  34.050480               -118.238810  \n",
       "max                  34.064281                  0.000000  "
      ]
     },
     "execution_count": 17,
     "metadata": {},
     "output_type": "execute_result"
    }
   ],
   "source": [
    "print(\"Float Based Variables:\")\n",
    "data_bikes[[\"Duration\",\n",
    "            \"Starting Station Latitude\",\"Starting Station Longitude\",\n",
    "            \"Ending Station Latitude\",\"Ending Station Longitude\"]].describe(include = \"all\")"
   ]
  },
  {
   "cell_type": "code",
   "execution_count": 18,
   "metadata": {},
   "outputs": [
    {
     "name": "stdout",
     "output_type": "stream",
     "text": [
      "TimeStamp Based Variables:\n"
     ]
    },
    {
     "data": {
      "text/html": [
       "<div>\n",
       "<style scoped>\n",
       "    .dataframe tbody tr th:only-of-type {\n",
       "        vertical-align: middle;\n",
       "    }\n",
       "\n",
       "    .dataframe tbody tr th {\n",
       "        vertical-align: top;\n",
       "    }\n",
       "\n",
       "    .dataframe thead th {\n",
       "        text-align: right;\n",
       "    }\n",
       "</style>\n",
       "<table border=\"1\" class=\"dataframe\">\n",
       "  <thead>\n",
       "    <tr style=\"text-align: right;\">\n",
       "      <th></th>\n",
       "      <th>Start Time</th>\n",
       "      <th>End Time</th>\n",
       "    </tr>\n",
       "  </thead>\n",
       "  <tbody>\n",
       "    <tr>\n",
       "      <th>count</th>\n",
       "      <td>130715</td>\n",
       "      <td>130715</td>\n",
       "    </tr>\n",
       "    <tr>\n",
       "      <th>unique</th>\n",
       "      <td>96991</td>\n",
       "      <td>89870</td>\n",
       "    </tr>\n",
       "    <tr>\n",
       "      <th>top</th>\n",
       "      <td>2016-07-14 11:38:00</td>\n",
       "      <td>2016-08-13 13:42:00</td>\n",
       "    </tr>\n",
       "    <tr>\n",
       "      <th>freq</th>\n",
       "      <td>15</td>\n",
       "      <td>14</td>\n",
       "    </tr>\n",
       "    <tr>\n",
       "      <th>first</th>\n",
       "      <td>2016-07-07 04:17:00</td>\n",
       "      <td>2016-07-07 04:20:00</td>\n",
       "    </tr>\n",
       "    <tr>\n",
       "      <th>last</th>\n",
       "      <td>2017-03-31 23:45:00</td>\n",
       "      <td>2017-04-01 18:15:00</td>\n",
       "    </tr>\n",
       "  </tbody>\n",
       "</table>\n",
       "</div>"
      ],
      "text/plain": [
       "                 Start Time             End Time\n",
       "count                130715               130715\n",
       "unique                96991                89870\n",
       "top     2016-07-14 11:38:00  2016-08-13 13:42:00\n",
       "freq                     15                   14\n",
       "first   2016-07-07 04:17:00  2016-07-07 04:20:00\n",
       "last    2017-03-31 23:45:00  2017-04-01 18:15:00"
      ]
     },
     "execution_count": 18,
     "metadata": {},
     "output_type": "execute_result"
    }
   ],
   "source": [
    "print(\"TimeStamp Based Variables:\")\n",
    "data_bikes[[\"Start Time\",\"End Time\"]].describe()"
   ]
  },
  {
   "cell_type": "code",
   "execution_count": 19,
   "metadata": {},
   "outputs": [
    {
     "name": "stdout",
     "output_type": "stream",
     "text": [
      "Categorical Variables: \n"
     ]
    },
    {
     "data": {
      "text/html": [
       "<div>\n",
       "<style scoped>\n",
       "    .dataframe tbody tr th:only-of-type {\n",
       "        vertical-align: middle;\n",
       "    }\n",
       "\n",
       "    .dataframe tbody tr th {\n",
       "        vertical-align: top;\n",
       "    }\n",
       "\n",
       "    .dataframe thead th {\n",
       "        text-align: right;\n",
       "    }\n",
       "</style>\n",
       "<table border=\"1\" class=\"dataframe\">\n",
       "  <thead>\n",
       "    <tr style=\"text-align: right;\">\n",
       "      <th></th>\n",
       "      <th>Trip Route Category</th>\n",
       "      <th>Bike ID</th>\n",
       "      <th>Trip ID</th>\n",
       "      <th>Passholder Type</th>\n",
       "      <th>Ending Station ID</th>\n",
       "      <th>Starting Station ID</th>\n",
       "      <th>Plan Duration</th>\n",
       "    </tr>\n",
       "  </thead>\n",
       "  <tbody>\n",
       "    <tr>\n",
       "      <th>count</th>\n",
       "      <td>130715</td>\n",
       "      <td>130715</td>\n",
       "      <td>130715</td>\n",
       "      <td>130715</td>\n",
       "      <td>130715</td>\n",
       "      <td>130715</td>\n",
       "      <td>130715</td>\n",
       "    </tr>\n",
       "    <tr>\n",
       "      <th>unique</th>\n",
       "      <td>2</td>\n",
       "      <td>762</td>\n",
       "      <td>130715</td>\n",
       "      <td>3</td>\n",
       "      <td>66</td>\n",
       "      <td>66</td>\n",
       "      <td>3</td>\n",
       "    </tr>\n",
       "    <tr>\n",
       "      <th>top</th>\n",
       "      <td>One Way</td>\n",
       "      <td>4727</td>\n",
       "      <td>23732455</td>\n",
       "      <td>Monthly Pass</td>\n",
       "      <td>3005</td>\n",
       "      <td>3069</td>\n",
       "      <td>30</td>\n",
       "    </tr>\n",
       "    <tr>\n",
       "      <th>freq</th>\n",
       "      <td>118083</td>\n",
       "      <td>309</td>\n",
       "      <td>1</td>\n",
       "      <td>80517</td>\n",
       "      <td>6245</td>\n",
       "      <td>5059</td>\n",
       "      <td>80517</td>\n",
       "    </tr>\n",
       "  </tbody>\n",
       "</table>\n",
       "</div>"
      ],
      "text/plain": [
       "       Trip Route Category  Bike ID   Trip ID Passholder Type  \\\n",
       "count               130715   130715    130715          130715   \n",
       "unique                   2      762    130715               3   \n",
       "top                One Way     4727  23732455    Monthly Pass   \n",
       "freq                118083      309         1           80517   \n",
       "\n",
       "        Ending Station ID  Starting Station ID  Plan Duration  \n",
       "count              130715               130715         130715  \n",
       "unique                 66                   66              3  \n",
       "top                  3005                 3069             30  \n",
       "freq                 6245                 5059          80517  "
      ]
     },
     "execution_count": 19,
     "metadata": {},
     "output_type": "execute_result"
    }
   ],
   "source": [
    "print(\"Categorical Variables: \")\n",
    "categorical_vars = [\"Trip Route Category\",\"Bike ID\",\"Trip ID\",\"Passholder Type\",\"Ending Station ID\",\"Starting Station ID\",\"Plan Duration\"]\n",
    "for k in categorical_vars:\n",
    "    data_bikes[k] = data_bikes[k].astype('category') \n",
    "\n",
    "data_bikes[categorical_vars].describe()"
   ]
  },
  {
   "cell_type": "code",
   "execution_count": 20,
   "metadata": {},
   "outputs": [
    {
     "name": "stdout",
     "output_type": "stream",
     "text": [
      "Redundant Columns: \n",
      "\t Shape:  (130715, 3)\n",
      "\t Dtypes : Duration                  int64\n",
      "\t\tTrip Route Category    category\n",
      "\t\tPlan Duration          category\n",
      "\t\tdtype: object\n",
      "\n",
      "Non-Redundant Data: \n",
      "\t Shape:  (130715, 12)\n",
      "\t Dtypes : index                                  int64\n",
      "\t\tBike ID                             category\n",
      "\t\tEnd Time                      datetime64[ns]\n",
      "\t\tEnding Station ID                   category\n",
      "\t\tEnding Station Latitude              float64\n",
      "\t\tEnding Station Longitude             float64\n",
      "\t\tPassholder Type                     category\n",
      "\t\tStart Time                    datetime64[ns]\n",
      "\t\tStarting Station ID                 category\n",
      "\t\tStarting Station Latitude            float64\n",
      "\t\tStarting Station Longitude           float64\n",
      "\t\tTrip ID                             category\n",
      "\t\tdtype: object\n"
     ]
    }
   ],
   "source": [
    "redundancies = data_bikes[[\"Duration\",\"Trip Route Category\",\"Plan Duration\"]]\n",
    "data_non_redundant = data_bikes.drop([\"Duration\",\"Trip Route Category\",\"Plan Duration\"],axis=1)\n",
    "print(\"Redundant Columns: \")\n",
    "print(\"\\t Shape:  %s\"%str(redundancies.shape))\n",
    "print(\"\\t Dtypes : %s\"%str(redundancies.dtypes).replace(\"\\n\",\"\\n\\t\\t\"))\n",
    "print(\"\\nNon-Redundant Data: \")\n",
    "print(\"\\t Shape:  %s\"%str(data_non_redundant.shape)) \n",
    "print(\"\\t Dtypes : %s\"%str(data_non_redundant.dtypes).replace(\"\\n\",\"\\n\\t\\t\"))"
   ]
  },
  {
   "cell_type": "markdown",
   "metadata": {},
   "source": [
    "__\\* Briefly explain your approach here \\*__"
   ]
  },
  {
   "cell_type": "markdown",
   "metadata": {},
   "source": [
    "### B3. Querying phase\n",
    "Answer the following queries using the functionality of `Pandas`.\n",
    "\n",
    "1. Plot the *distribution* of the number of outgoing trips from each station in a histogram with 20 bins (Hint: each bin describes a range of counts, not stations).\n",
    "* Plot histograms for the *duration* and *trip starting hour in the day* attributes. For both the *duration*  and the *trip starting hour* use *discrete 1-hour intervals*. What do you observe in each plot? What are some popular values in the *duration* plot? Explain the local maxima and the trends you observe on the *trip starting hour* plot based on human behavior.\n",
    "* For each *trip route category*, calculate the proportion of trips by *passholder type* and present your results in *a stacked bar chart with normalized height*.\n",
    "* Considering only trips that begin in the morning hours (before noon), plot in *a single bar chart* the proportion of trips by *passholder type* and *trip route category*. Explain any outliers you observe.\n",
    "* Separate the hours of the day into two intervals that have (approximately) the same number of bikes leaving the stations. For each of the two intervals calculate the proportion of trips by *passholder type* and *trip route category*. Present your results in a `DataFrame` which has a unique, non-composite index. Does the proportion of trips depend on whether it is the first or second hour interval? Would the company have any significant benefit by creating a more complex paying scheme where monthly pass users would pay less in the first interval and (equally) more on the second one? Assume that the number of trips per interval will not change if the scheme changes."
   ]
  },
  {
   "cell_type": "code",
   "execution_count": 21,
   "metadata": {},
   "outputs": [
    {
     "data": {
      "image/png": "[encoded data removed]",
      "text/plain": [
       "<Figure size 1440x720 with 6 Axes>"
      ]
     },
     "metadata": {},
     "output_type": "display_data"
    }
   ],
   "source": [
    "import matplotlib.pyplot as plt\n",
    "import matplotlib.patches as mpatches\n",
    "from collections import Counter\n",
    "\n",
    "% matplotlib inline\n",
    "\n",
    "colors= [\"navy\",\"royalblue\",\"steelblue\",\"lightsteelblue\"]\n",
    "fig, axes = plt.subplots(nrows=2, ncols=3,figsize=(20,10))\n",
    "\n",
    "axes[0,0].hist(list(Counter(data_bikes[\"Starting Station ID\"]).values()),bins=20,rwidth = 0.8);\n",
    "axes[0,0].set_xlabel(\"Number of ougoing trips \");\n",
    "axes[0,0].set_ylabel(\"Frequency\");\n",
    "axes[0,0].set_title(\"Q1\");\n",
    "\n",
    "time_start = [x.hour for x in data_bikes[\"Start Time\"]]\n",
    "axes[0,1].hist(time_start,bins=20,rwidth = 0.8);\n",
    "axes[0,1].set_xlabel(\"Starting Hour\");\n",
    "axes[0,1].set_ylabel(\"Frequency\");\n",
    "axes[0,1].set_title(\"Q2a\");\n",
    "\n",
    "durations = data_bikes[\"Duration\"]//3600\n",
    "axes[0,2].hist(durations,bins=20,rwidth = 0.8,log=True);\n",
    "axes[0,2].set_xlabel(\"Trip Duration (h)\");\n",
    "axes[0,2].set_ylabel(\"Frequency\");\n",
    "axes[0,2].set_title(\"Q2b\");\n",
    "\n",
    "x = (data_bikes.groupby([\"Trip Route Category\",\"Passholder Type\",])).size().groupby(level=0).apply(\n",
    "    lambda x:  x / x.sum()\n",
    ")\n",
    "x.unstack().plot(kind='bar',stacked=True, color=colors, grid=False,ax=axes[1,0]);\n",
    "axes[1,0].set_ylabel(\"Proportion of Trips\");\n",
    "axes[1,0].set_title(\"Q3\");\n",
    "\n",
    "noon = 12\n",
    "x = (data_bikes[[x.hour < noon for x in data_bikes[\"Start Time\"]]].groupby([\"Trip Route Category\",\"Passholder Type\",])).size().groupby(level=0).apply(\n",
    "    lambda x:  x / x.sum()\n",
    ")\n",
    "x.unstack().plot(kind='bar',stacked=False, color=colors, grid=False,ax=axes[1,1]);\n",
    "axes[1,1].set_ylabel(\"Proportion of Trips\");\n",
    "axes[1,1].set_title(\"Q4\");\n",
    "\n",
    "sta_hr = Counter([x.hour for x in data_bikes[\"Start Time\"]])\n",
    "red_patch = mpatches.Patch(color='red', label='Interval 1')\n",
    "blue_patch = mpatches.Patch(color='blue', label='Interval 0')\n",
    "\n",
    "df = pd.DataFrame.from_dict(list(sta_hr.items()))\n",
    "df.columns = ['Hour', 'Trips']\n",
    "df.set_index('Hour',inplace=True)\n",
    "df.sort_index(inplace=True)\n",
    "new_df = (df.cumsum()/df.sum()).reset_index()\n",
    "axes[1,2].bar(new_df.Hour,new_df.Trips,color = [\"red\" if k>14 else \"blue\"for k in range(24)  ]);\n",
    "axes[1,2].plot([0,23],[0.5,0.5],\"red\")\n",
    "axes[1,2].set_xlabel(\"Hour\");\n",
    "axes[1,2].set_ylabel(\"Proportion of Trips\");\n",
    "axes[1,2].legend(handles=[blue_patch,red_patch]);\n",
    "axes[1,2].set_title(\"Q5\");# Write your code here"
   ]
  },
  {
   "cell_type": "code",
   "execution_count": 22,
   "metadata": {},
   "outputs": [
    {
     "data": {
      "text/html": [
       "<div>\n",
       "<style scoped>\n",
       "    .dataframe tbody tr th:only-of-type {\n",
       "        vertical-align: middle;\n",
       "    }\n",
       "\n",
       "    .dataframe tbody tr th {\n",
       "        vertical-align: top;\n",
       "    }\n",
       "\n",
       "    .dataframe thead th {\n",
       "        text-align: right;\n",
       "    }\n",
       "</style>\n",
       "<table border=\"1\" class=\"dataframe\">\n",
       "  <thead>\n",
       "    <tr style=\"text-align: right;\">\n",
       "      <th></th>\n",
       "      <th>Passholder Type</th>\n",
       "      <th>Flex Pass</th>\n",
       "      <th>Monthly Pass</th>\n",
       "      <th>Walk-up</th>\n",
       "    </tr>\n",
       "    <tr>\n",
       "      <th>Trip Route Category</th>\n",
       "      <th>Hour Category</th>\n",
       "      <th></th>\n",
       "      <th></th>\n",
       "      <th></th>\n",
       "    </tr>\n",
       "  </thead>\n",
       "  <tbody>\n",
       "    <tr>\n",
       "      <th rowspan=\"2\" valign=\"top\">One Way</th>\n",
       "      <th>0</th>\n",
       "      <td>0.074338</td>\n",
       "      <td>0.641012</td>\n",
       "      <td>0.284650</td>\n",
       "    </tr>\n",
       "    <tr>\n",
       "      <th>1</th>\n",
       "      <td>0.077657</td>\n",
       "      <td>0.660005</td>\n",
       "      <td>0.262339</td>\n",
       "    </tr>\n",
       "    <tr>\n",
       "      <th rowspan=\"2\" valign=\"top\">Round Trip</th>\n",
       "      <th>0</th>\n",
       "      <td>0.034891</td>\n",
       "      <td>0.273612</td>\n",
       "      <td>0.691496</td>\n",
       "    </tr>\n",
       "    <tr>\n",
       "      <th>1</th>\n",
       "      <td>0.041422</td>\n",
       "      <td>0.311747</td>\n",
       "      <td>0.646832</td>\n",
       "    </tr>\n",
       "  </tbody>\n",
       "</table>\n",
       "</div>"
      ],
      "text/plain": [
       "Passholder Type                    Flex Pass  Monthly Pass   Walk-up\n",
       "Trip Route Category Hour Category                                   \n",
       "One Way             0               0.074338      0.641012  0.284650\n",
       "                    1               0.077657      0.660005  0.262339\n",
       "Round Trip          0               0.034891      0.273612  0.691496\n",
       "                    1               0.041422      0.311747  0.646832"
      ]
     },
     "execution_count": 22,
     "metadata": {},
     "output_type": "execute_result"
    }
   ],
   "source": [
    "\n",
    "hour_threshold = 14\n",
    "data_bikes[\"Hour Category\"] = [int(x.hour<=hour_threshold) for x in data_bikes[\"Start Time\"]]\n",
    "x = (data_bikes.groupby([\"Trip Route Category\",\"Hour Category\",\"Passholder Type\",])).size().groupby(level=0).apply(\n",
    "    lambda x:  x / x.sum()\n",
    ").unstack()\n",
    "x.div(x.sum(axis=1), axis=0)"
   ]
  },
  {
   "cell_type": "markdown",
   "metadata": {},
   "source": [
    "__\\* Briefly explain your approach for every query here \\*__"
   ]
  }
 ],
 "metadata": {
  "kernelspec": {
   "display_name": "Python 3",
   "language": "python",
   "name": "python3"
  },
  "language_info": {
   "codemirror_mode": {
    "name": "ipython",
    "version": 3
   },
   "file_extension": ".py",
   "mimetype": "text/x-python",
   "name": "python",
   "nbconvert_exporter": "python",
   "pygments_lexer": "ipython3",
   "version": "3.6.5"
  }
 },
 "nbformat": 4,
 "nbformat_minor": 2
}
