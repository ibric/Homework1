{
 "cells": [
  {
   "cell_type": "markdown",
   "metadata": {},
   "source": [
    "# Exercise 1"
   ]
  },
  {
   "cell_type": "code",
   "execution_count": 1,
   "metadata": {},
   "outputs": [],
   "source": [
    "# Add your imports here\n",
    "%matplotlib inline\n",
    "import numpy as np\n",
    "import pandas as pd\n",
    "pd.options.mode.chained_assignment = None"
   ]
  },
  {
   "cell_type": "code",
   "execution_count": 2,
   "metadata": {},
   "outputs": [],
   "source": [
    "DATA_FOLDER = 'data'"
   ]
  },
  {
   "cell_type": "markdown",
   "metadata": {},
   "source": [
    "## Task A. Another LEGO brick in the wall\n",
    "\n",
    "LEGO is a popular brand of toy building bricks. They are often sold in sets in order to build a specific object. Each set contains a number of parts in different shapes, sizes and colors. This database contains information on which parts are included in different LEGO sets. It was originally compiled to help people who owned some LEGO sets already figure out what other sets they could build with the pieces they had.\n",
    "\n",
    "This dataset contains the official LEGO colors, parts, inventories (i.e., sets of LEGO parts which assembled create an object in the LEGO world) and sets (i.e., sets of LEGO inventories which assembled create a LEGO ecosystem). The schema of the dataset can be shown in the following UML diagram: \n",
    "\n",
    "![lego-schema](lego-schema.png)\n",
    "\n",
    "In this task you have to apply the following Data Wrangling pipeline:\n",
    "1. Load your data into `Pandas`\n",
    "* Explore it and clean its dirty parts\n",
    "* Use it to answer a set of queries\n",
    "\n",
    "Each of these subtasks are described in detail below."
   ]
  },
  {
   "cell_type": "markdown",
   "metadata": {},
   "source": [
    "### A1. Loading phase\n",
    "Load all the csv files into different `DataFrames`. Use meaningful names for your `DataFrames` (e.g., the respective filenames).\n",
    "\n",
    "*Hint: You can load files without first unzipping them (for `Pandas` version >= 0.18.1).*"
   ]
  },
  {
   "cell_type": "code",
   "execution_count": 3,
   "metadata": {},
   "outputs": [],
   "source": [
    "LEGO_DATA_FOLDER = DATA_FOLDER + '/lego'"
   ]
  },
  {
   "cell_type": "code",
   "execution_count": 4,
   "metadata": {},
   "outputs": [],
   "source": [
    "themes = pd.read_csv(LEGO_DATA_FOLDER + '/themes.csv.zip')\n",
    "colors = pd.read_csv(LEGO_DATA_FOLDER + '/colors.csv.zip')\n",
    "inventories = pd.read_csv(LEGO_DATA_FOLDER + '/inventories.csv.zip')\n",
    "inventory_parts = pd.read_csv(LEGO_DATA_FOLDER + '/inventory_parts.csv.zip')\n",
    "inventory_sets = pd.read_csv(LEGO_DATA_FOLDER + '/inventory_sets.csv.zip')\n",
    "part_categories = pd.read_csv(LEGO_DATA_FOLDER + '/part_categories.csv.zip')\n",
    "parts = pd.read_csv(LEGO_DATA_FOLDER + '/parts.csv.zip')\n",
    "sets = pd.read_csv(LEGO_DATA_FOLDER + '/sets.csv.zip')"
   ]
  },
  {
   "cell_type": "markdown",
   "metadata": {},
   "source": [
    "### A2. Cleaning phase\n",
    "Explore the following columns from your dataset:\n",
    "\n",
    "1. sets: year\n",
    "* inventory_parts: quantity\n",
    "\n",
    "What is the time range of the sets? \n",
    "What is the average quantity of the inventory parts? \n",
    "Do you see any inconsistencies? \n",
    "Provide code that detects and cleans such inconsistencies and validates the coherence of your dataset. "
   ]
  },
  {
   "cell_type": "code",
   "execution_count": 5,
   "metadata": {},
   "outputs": [
    {
     "data": {
      "text/plain": [
       "0           70s\n",
       "7         19788\n",
       "11645    -20122\n",
       "11643     -2014\n",
       "Name: year, dtype: object"
      ]
     },
     "execution_count": 5,
     "metadata": {},
     "output_type": "execute_result"
    }
   ],
   "source": [
    "# here we can see all type of inconsistency in the sets' years\n",
    "sets.year.iloc[[0, 7, 11645, 11643]]"
   ]
  },
  {
   "cell_type": "code",
   "execution_count": 6,
   "metadata": {},
   "outputs": [
    {
     "name": "stdout",
     "output_type": "stream",
     "text": [
      "year type: int64\n",
      "year min: 1950\n",
      "year max: 2017\n"
     ]
    }
   ],
   "source": [
    "# we define a function that deals with every one of those cases\n",
    "# we assumed the following:\n",
    "# 70s -> 1970\n",
    "# negative year -> ignore negative sign\n",
    "# 20122 -> the two last digits are redundant: remove the last one.\n",
    "def read_year(year_s):\n",
    "    try:\n",
    "        year = int(year_s)\n",
    "        if year < 0:\n",
    "            year = -year\n",
    "        if year > 2018:\n",
    "            return read_year(year_s[:-1])\n",
    "        else:\n",
    "            return year\n",
    "    except ValueError:\n",
    "        return 1900 + read_year(year_s[:-1])\n",
    "    \n",
    "year_clean = sets.year.apply(read_year)\n",
    "\n",
    "# as the resulted type is integers (-> no NAN values) and the range is reasonnable, data is coherent \n",
    "print('year type:', year_clean.dtype)\n",
    "print('year min:', year_clean.min())\n",
    "print('year max:', year_clean.max())"
   ]
  },
  {
   "cell_type": "code",
   "execution_count": 7,
   "metadata": {},
   "outputs": [
    {
     "name": "stdout",
     "output_type": "stream",
     "text": [
      "9   -inf\n",
      "Name: quantity, dtype: float64\n"
     ]
    }
   ],
   "source": [
    "# there is only one kind of inconsistency in the inventory parts quantities\n",
    "print(inventory_parts.quantity.iloc[[9]])"
   ]
  },
  {
   "cell_type": "code",
   "execution_count": 8,
   "metadata": {},
   "outputs": [
    {
     "name": "stdout",
     "output_type": "stream",
     "text": [
      "number of NAN values: 0\n",
      "parts quantity mean: 2.7670542575540584\n"
     ]
    }
   ],
   "source": [
    "# to deal with those, we define a function that returns quantities as integers\n",
    "# a reasonable default value on inconsistency is 0\n",
    "def read_quantity(quantity):\n",
    "    return 0 if quantity == float('-inf') else int(quantity)\n",
    "\n",
    "quantity_clean = inventory_parts.quantity.apply(read_quantity)\n",
    "\n",
    "# applying that function leads to no NAN values and the given mean\n",
    "print('number of NAN values:', quantity_clean.map(np.isnan).sum())\n",
    "print('parts quantity mean:', quantity_clean.mean())"
   ]
  },
  {
   "cell_type": "markdown",
   "metadata": {},
   "source": [
    "### A3. Querying phase\n",
    "Answer the following queries using the functionality of `Pandas`:\n",
    "\n",
    "1. List the ids of the inventories that belong to sets that contain cars. (*Hint: Find a smart way to distinguish which sets contain cars based on the sets' name*).\n",
    "* Plot the distribution of part categories as a (horizontal) bar chart. Restrict yourself to the 20 largest part categories (in terms of the number of parts belonging to the category).\n",
    "* Find the dominant color of each set. Then, plot using a (horizontal) bar chart, the number of sets per dominant color. Color each bar with the respective color that it represents.\n",
    "* Create a scatter plot of the *luminance*\\* of the sets vs their publishing year. What do you observe for the years 1980-1981? How do you interpret what you see?\n",
    "\n",
    "\\*The luminance of a color is a [measure of brightness](https://en.wikipedia.org/wiki/Luminance) which, given its RGB representation, can be computed as follows:\n",
    "\n",
    "$luminance = \\sqrt{0.299*R^2 + 0.587*G^2 + 0.114*B^2}$"
   ]
  },
  {
   "cell_type": "code",
   "execution_count": 9,
   "metadata": {},
   "outputs": [
    {
     "data": {
      "text/plain": [
       "array([13941, 10158, 13083,  5358, 13380,  8202, 12137, 10770, 10995,\n",
       "        4536, 16131,  1716,  3755, 10406, 10993,  1645, 14174,  7430,\n",
       "        9709, 14711, 12851, 10515, 14919,  2814, 15010, 16138,  5904,\n",
       "        7151, 11966,  8140,  1726,  2643,  6066,  1649,  6530, 14011,\n",
       "        2677,  5491,  2917,  6086, 10421, 16159,  9329, 11759,  1899,\n",
       "        2849,  4643,  1371, 13427,  2836,  8950,   528, 14493,  9210,\n",
       "         908,  2636, 11050, 11190,  9033,  1732,  3764,  1401,  4430,\n",
       "        5110,  9178, 13355,  2559,  6296, 10028, 12110,  1205,  1418,\n",
       "        3109,  4261,  4969,  5857, 11861, 15192, 15694, 13696,  7363,\n",
       "        5432,  4051,  8820,   263,  5600,    35, 11935,  9426,  7881,\n",
       "        9599, 10043, 16023, 16034,  9502, 13370, 14328, 14931,  4187,\n",
       "       13398,  6702,  8348,  9406, 14154,  4278,   962,  6276, 11436,\n",
       "        1334,  3435,  8331,  3699,  8980,  4832,  9381, 12830, 12437,\n",
       "        4467,  2258,  8585,   500,  2114], dtype=int64)"
      ]
     },
     "execution_count": 9,
     "metadata": {},
     "output_type": "execute_result"
    }
   ],
   "source": [
    "### Task A3.1: ids of the inventories that belong to sets that contain cars.\n",
    "# We had to spot all car related keywords and brands used in the sets' names.\n",
    "car_keywords = ['car', 'truck', 'Rolls-Royce' , 'Cadillac' , 'Renault' , 'Ford' , 'Berlinetta' , 'Audi' , 'Chevrolet' , 'Ferrari' , 'Lamborghini' , 'McLaren' , 'Mercedes' , 'Porsche' , 'VW' ]\n",
    "\n",
    "# Based on those we discriminated car sets with the following method\n",
    "# We remain careful about the case of strings by systematically lowering them.\n",
    "car_keywords = list(map(lambda s: s.lower(), car_keywords))\n",
    "def car(s):\n",
    "    s = s.lower()\n",
    "    for keyword in car_keywords:\n",
    "        if(keyword in s):\n",
    "            return True\n",
    "    return False\n",
    "\n",
    "# we then merge the filtered sets with the inventories and print the unique resulting inventoriy ids.\n",
    "pd.merge(sets[sets.name.apply(car)], inventory_sets, left_on='id', right_on='set_id').inventory_id.unique()"
   ]
  },
  {
   "cell_type": "code",
   "execution_count": 10,
   "metadata": {},
   "outputs": [
    {
     "data": {
      "text/plain": [
       "<matplotlib.axes._subplots.AxesSubplot at 0x1cd013c6ef0>"
      ]
     },
     "execution_count": 10,
     "metadata": {},
     "output_type": "execute_result"
    },
    {
     "data": {
      "image/png": "[encoded data removed]",
      "text/plain": [
       "<Figure size 432x288 with 1 Axes>"
      ]
     },
     "metadata": {},
     "output_type": "display_data"
    }
   ],
   "source": [
    "### Task A3.2: distribution of part categories\n",
    "# get the count of parts for a category id\n",
    "df = parts.groupby('part_cat_id').size().to_frame('count').reset_index('part_cat_id')\n",
    "# keep the 20 largest\n",
    "df = df.sort_values('count', ascending=False).head(20)\n",
    "# merge with catogory name\n",
    "df = pd.merge(df, part_categories, left_on='part_cat_id', right_on='id')\n",
    "# plot the chart\n",
    "df.plot.barh(x='name', y='count')"
   ]
  },
  {
   "cell_type": "code",
   "execution_count": 11,
   "metadata": {},
   "outputs": [],
   "source": [
    "# define function to get actual (r,g,b) values from hex value\n",
    "# this function is needed for Task A3.3 and A3.4.\n",
    "def hex_to_rgb(hex):\n",
    "    return tuple(int(hex[i:i+2], 16)/255 for i in (0, 2 ,4))"
   ]
  },
  {
   "cell_type": "code",
   "execution_count": 12,
   "metadata": {},
   "outputs": [
    {
     "data": {
      "text/plain": [
       "<matplotlib.axes._subplots.AxesSubplot at 0x1cd01d9f8d0>"
      ]
     },
     "execution_count": 12,
     "metadata": {},
     "output_type": "execute_result"
    },
    {
     "data": {
      "image/png": "[encoded data removed]",
      "text/plain": [
       "<Figure size 432x288 with 1 Axes>"
      ]
     },
     "metadata": {},
     "output_type": "display_data"
    }
   ],
   "source": [
    "### Task A3.3.a: Find the dominant color of each set. \n",
    "# as the definition of what a 'dominant color' is isn't given, we'll assume the following:\n",
    "# it is the color that hast the most number of parts with that color.\n",
    "# so we'll need to compute, for each set, the number of parts wich each colors and take the one that is the more represented.\n",
    "# get cleaned inventory_parts (after Task A2)\n",
    "df = inventory_parts.copy().drop('quantity', axis='columns')\n",
    "df['inventory_quantity'] = quantity_clean\n",
    "# merge that with parts and keep only the needed columns\n",
    "df = pd.merge(inventory_sets, df, on='inventory_id').drop(['is_spare', 'inventory_id', 'part_id'], axis='columns')\n",
    "# compute the total number of parts and drop unnecessary columns\n",
    "df['part_quantity'] = df.quantity * df.inventory_quantity\n",
    "df.drop(['inventory_quantity', 'quantity'], axis='columns', inplace=True)\n",
    "# get the best colors \n",
    "df = df.groupby(['set_id', 'color_id'])['part_quantity'].sum().reset_index()\n",
    "df.iloc[df.groupby('set_id')['part_quantity'].idxmax()]\n",
    "# merge with colors to get actual colors name and rgb\n",
    "set_colors = pd.merge(df, colors, left_on='color_id', right_on='id')[['set_id', 'name', 'rgb']]\n",
    "\n",
    "### Task A3.3.b Plot the number of sets per dominant color. Color each bar with the respective color that it represents.\n",
    "# get the cout of set per color\n",
    "df = set_colors.groupby('rgb').size().to_frame('count').reset_index('rgb')\n",
    "# plot it\n",
    "df.plot(kind='barh', x='rgb', y='count', color=map(lambda c: (hex_to_rgb(c)), df['rgb']))"
   ]
  },
  {
   "cell_type": "code",
   "execution_count": 13,
   "metadata": {},
   "outputs": [
    {
     "data": {
      "text/plain": [
       "<matplotlib.axes._subplots.AxesSubplot at 0x1cd01917ef0>"
      ]
     },
     "execution_count": 13,
     "metadata": {},
     "output_type": "execute_result"
    },
    {
     "data": {
      "image/png": "[encoded data removed]",
      "text/plain": [
       "<Figure size 432x288 with 1 Axes>"
      ]
     },
     "metadata": {},
     "output_type": "display_data"
    }
   ],
   "source": [
    "### Task A3.4: luminance* of the sets vs their publishing year\n",
    "# define the luminance function\n",
    "def luminance(hex):\n",
    "    r,g,b = hex_to_rgb(hex)\n",
    "    return np.sqrt(0.299*r*r + 0.587*g*g + 0.114*b*b)\n",
    "\n",
    "# get cleaned year with associated color via set ids\n",
    "df = sets.copy()[['id']]\n",
    "df['year'] = year_clean\n",
    "df = pd.merge(df, set_colors, left_on='id', right_on='set_id')\n",
    "\n",
    "# compute luminance\n",
    "df['luminance'] = df.rgb.map(luminance)\n",
    "\n",
    "# plot it\n",
    "df.plot.scatter(x='year', y='luminance')\n",
    "# we can observe that the luminance as well as the number of set published per year is going down for the last 20 years"
   ]
  }
 ],
 "metadata": {
  "kernelspec": {
   "display_name": "Python 3",
   "language": "python",
   "name": "python3"
  },
  "language_info": {
   "codemirror_mode": {
    "name": "ipython",
    "version": 3
   },
   "file_extension": ".py",
   "mimetype": "text/x-python",
   "name": "python",
   "nbconvert_exporter": "python",
   "pygments_lexer": "ipython3",
   "version": "3.6.5"
  }
 },
 "nbformat": 4,
 "nbformat_minor": 2
}
