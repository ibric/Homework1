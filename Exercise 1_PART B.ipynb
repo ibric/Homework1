{
 "cells": [
  {
   "cell_type": "markdown",
   "metadata": {},
   "source": [
    "# Exercise 1\n",
    " <p><div class=\"lev1\"><a href=\"#Task-A.-Another-LEGO-brick-in-the-wall\"><span class=\"toc-item-num\">Task A.&nbsp;&nbsp;</span>Another LEGO brick in the wall</a></div>\n",
    " <p><div class=\"lev1\"><a href=\"#Task-B.-Drop-the-Bike\"><span class=\"toc-item-num\">Task B.&nbsp;&nbsp;</span>Drop the Bike</a></div>"
   ]
  },
  {
   "cell_type": "code",
   "execution_count": 1,
   "metadata": {
    "collapsed": true
   },
   "outputs": [],
   "source": [
    "# Add your imports here"
   ]
  },
  {
   "cell_type": "code",
   "execution_count": 1,
   "metadata": {
    "collapsed": true
   },
   "outputs": [],
   "source": [
    "DATA_FOLDER = 'data'"
   ]
  },
  {
   "cell_type": "markdown",
   "metadata": {
    "heading_collapsed": true
   },
   "source": [
    "## Task A. Another LEGO brick in the wall\n",
    "\n",
    "LEGO is a popular brand of toy building bricks. They are often sold in sets in order to build a specific object. Each set contains a number of parts in different shapes, sizes and colors. This database contains information on which parts are included in different LEGO sets. It was originally compiled to help people who owned some LEGO sets already figure out what other sets they could build with the pieces they had.\n",
    "\n",
    "This dataset contains the official LEGO colors, parts, inventories (i.e., sets of LEGO parts which assembled create an object in the LEGO world) and sets (i.e., sets of LEGO inventories which assembled create a LEGO ecosystem). The schema of the dataset can be shown in the following UML diagram: \n",
    "\n",
    "![lego-schema](lego-schema.png)\n",
    "\n",
    "In this task you have to apply the following Data Wrangling pipeline:\n",
    "1. Load your data into `Pandas`\n",
    "* Explore it and clean its dirty parts\n",
    "* Use it to answer a set of queries\n",
    "\n",
    "Each of these subtasks are described in detail below."
   ]
  },
  {
   "cell_type": "markdown",
   "metadata": {
    "hidden": true
   },
   "source": [
    "### A1. Loading phase\n",
    "Load all the csv files into different `DataFrames`. Use meaningful names for your `DataFrames` (e.g., the respective filenames).\n",
    "\n",
    "*Hint: You can load files without first unzipping them (for `Pandas` version >= 0.18.1).*"
   ]
  },
  {
   "cell_type": "code",
   "execution_count": 3,
   "metadata": {
    "collapsed": true,
    "hidden": true
   },
   "outputs": [],
   "source": [
    "LEGO_DATA_FOLDER = DATA_FOLDER + '/lego'"
   ]
  },
  {
   "cell_type": "markdown",
   "metadata": {
    "hidden": true
   },
   "source": [
    "### A2. Cleaning phase\n",
    "Explore the following columns from your dataset:\n",
    "\n",
    "1. sets: year\n",
    "* inventory_parts: quantity\n",
    "\n",
    "What is the time range of the sets? \n",
    "What is the average quantity of the inventory parts? \n",
    "Do you see any inconsistencies? \n",
    "Provide code that detects and cleans such inconsistencies and validates the coherence of your dataset. "
   ]
  },
  {
   "cell_type": "code",
   "execution_count": 5,
   "metadata": {
    "collapsed": true,
    "hidden": true
   },
   "outputs": [],
   "source": [
    "# Write your code here"
   ]
  },
  {
   "cell_type": "markdown",
   "metadata": {
    "hidden": true
   },
   "source": [
    "__\\* Briefly explain your approach here \\*__"
   ]
  },
  {
   "cell_type": "markdown",
   "metadata": {
    "hidden": true
   },
   "source": [
    "### A3. Querying phase\n",
    "Answer the following queries using the functionality of `Pandas`:\n",
    "\n",
    "1. List the ids of the inventories that belong to sets that contain cars. (*Hint: Find a smart way to distinguish which sets contain cars based on the sets' name*).\n",
    "* Plot the distribution of part categories as a (horizontal) bar chart. Restrict yourself to the 20 largest part categories (in terms of the number of parts belonging to the category).\n",
    "* Find the dominant color of each set. Then, plot using a (horizontal) bar chart, the number of sets per dominant color. Color each bar with the respective color that it represents.\n",
    "* Create a scatter plot of the *luminance*\\* of the sets vs their publishing year. What do you observe for the years 1980-1981? How do you interpret what you see?\n",
    "\n",
    "\\*The luminance of a color is a [measure of brightness](https://en.wikipedia.org/wiki/Luminance) which, given its RGB representation, can be computed as follows:\n",
    "\n",
    "$luminance = \\sqrt{0.299*R^2 + 0.587*G^2 + 0.114*B^2}$"
   ]
  },
  {
   "cell_type": "code",
   "execution_count": 6,
   "metadata": {
    "collapsed": true,
    "hidden": true
   },
   "outputs": [],
   "source": [
    "# Write your code here"
   ]
  },
  {
   "cell_type": "markdown",
   "metadata": {
    "hidden": true
   },
   "source": [
    "__\\* Briefly explain your approach for every query here \\*__"
   ]
  },
  {
   "cell_type": "markdown",
   "metadata": {},
   "source": [
    "## Task B. Drop the bike\n",
    "\n",
    "*Los Angeles Metro* has been sharing publicly [anonymized *Metro Bike Share* trip data](https://bikeshare.metro.net/about/data/) under the [Open Database License (ODbL)](http://opendatacommons.org/licenses/odbl/1.0/).\n",
    "\n",
    "In this task you will again perform data wrangling and interpretation."
   ]
  },
  {
   "cell_type": "markdown",
   "metadata": {},
   "source": [
    "### B1. Loading phase\n",
    "Load the json file into a `DataFrame`.\n"
   ]
  },
  {
   "cell_type": "code",
   "execution_count": 2,
   "metadata": {},
   "outputs": [],
   "source": [
    "BIKES_DATA_FOLDER = DATA_FOLDER + '/bikes'"
   ]
  },
  {
   "cell_type": "code",
   "execution_count": 3,
   "metadata": {},
   "outputs": [
    {
     "name": "stdout",
     "output_type": "stream",
     "text": [
      "382 staff trips, 1330 missing info trips\n",
      "Total number of trips: 132427\n"
     ]
    }
   ],
   "source": [
    "import numpy as np \n",
    "import pandas as pd\n",
    "from datetime import datetime\n",
    "from collections import Counter\n",
    "import warnings\n",
    "warnings.filterwarnings(\"ignore\")\n",
    "\n",
    "ori_bikes = pd.read_json(BIKES_DATA_FOLDER+\"/metro-bike-share-trip-data.json.zip\",compression=\"zip\")\n",
    "normal_ori_bikes = ori_bikes[ori_bikes[\"Passholder Type\"]!=\"Staff Annual\"].reset_index()\n",
    "data_bikes = normal_ori_bikes.dropna(how=\"any\")\n",
    "nan_vals = normal_ori_bikes.iloc[list(set(normal_ori_bikes.index)-set(data_bikes.index))]\n",
    "\n",
    "print (\"%d staff trips, %d missing info trips\"%(ori_bikes[ori_bikes[\"Passholder Type\"]==\"Staff Annual\"].shape[0],\n",
    "                                               len(nan_vals)))\n",
    "print(\"Total number of trips: %d\" %ori_bikes.shape[0])"
   ]
  },
  {
   "cell_type": "code",
   "execution_count": 5,
   "metadata": {},
   "outputs": [
    {
     "data": {
      "text/html": [
       "<div>\n",
       "<style scoped>\n",
       "    .dataframe tbody tr th:only-of-type {\n",
       "        vertical-align: middle;\n",
       "    }\n",
       "\n",
       "    .dataframe tbody tr th {\n",
       "        vertical-align: top;\n",
       "    }\n",
       "\n",
       "    .dataframe thead th {\n",
       "        text-align: right;\n",
       "    }\n",
       "</style>\n",
       "<table border=\"1\" class=\"dataframe\">\n",
       "  <thead>\n",
       "    <tr style=\"text-align: right;\">\n",
       "      <th></th>\n",
       "      <th>index</th>\n",
       "      <th>Bike ID</th>\n",
       "      <th>Duration</th>\n",
       "      <th>End Time</th>\n",
       "      <th>Ending Station ID</th>\n",
       "      <th>Ending Station Latitude</th>\n",
       "      <th>Ending Station Longitude</th>\n",
       "      <th>Passholder Type</th>\n",
       "      <th>Plan Duration</th>\n",
       "      <th>Start Time</th>\n",
       "      <th>Starting Station ID</th>\n",
       "      <th>Starting Station Latitude</th>\n",
       "      <th>Starting Station Longitude</th>\n",
       "      <th>Trip ID</th>\n",
       "      <th>Trip Route Category</th>\n",
       "    </tr>\n",
       "  </thead>\n",
       "  <tbody>\n",
       "    <tr>\n",
       "      <th>0</th>\n",
       "      <td>0</td>\n",
       "      <td>6281</td>\n",
       "      <td>180</td>\n",
       "      <td>2016-07-07 04:20:00</td>\n",
       "      <td>3014</td>\n",
       "      <td>34.05661</td>\n",
       "      <td>-118.23721</td>\n",
       "      <td>Monthly Pass</td>\n",
       "      <td>30</td>\n",
       "      <td>2016-07-07 04:17:00</td>\n",
       "      <td>3014</td>\n",
       "      <td>34.05661</td>\n",
       "      <td>-118.23721</td>\n",
       "      <td>1912818</td>\n",
       "      <td>Round Trip</td>\n",
       "    </tr>\n",
       "    <tr>\n",
       "      <th>1</th>\n",
       "      <td>1</td>\n",
       "      <td>6281</td>\n",
       "      <td>1980</td>\n",
       "      <td>2016-07-07 06:33:00</td>\n",
       "      <td>3014</td>\n",
       "      <td>34.05661</td>\n",
       "      <td>-118.23721</td>\n",
       "      <td>Monthly Pass</td>\n",
       "      <td>30</td>\n",
       "      <td>2016-07-07 06:00:00</td>\n",
       "      <td>3014</td>\n",
       "      <td>34.05661</td>\n",
       "      <td>-118.23721</td>\n",
       "      <td>1919661</td>\n",
       "      <td>Round Trip</td>\n",
       "    </tr>\n",
       "  </tbody>\n",
       "</table>\n",
       "</div>"
      ],
      "text/plain": [
       "   index  Bike ID  Duration            End Time  Ending Station ID  \\\n",
       "0      0     6281       180 2016-07-07 04:20:00               3014   \n",
       "1      1     6281      1980 2016-07-07 06:33:00               3014   \n",
       "\n",
       "   Ending Station Latitude  Ending Station Longitude Passholder Type  \\\n",
       "0                 34.05661                -118.23721    Monthly Pass   \n",
       "1                 34.05661                -118.23721    Monthly Pass   \n",
       "\n",
       "   Plan Duration          Start Time  Starting Station ID  \\\n",
       "0             30 2016-07-07 04:17:00                 3014   \n",
       "1             30 2016-07-07 06:00:00                 3014   \n",
       "\n",
       "   Starting Station Latitude  Starting Station Longitude  Trip ID  \\\n",
       "0                   34.05661                  -118.23721  1912818   \n",
       "1                   34.05661                  -118.23721  1919661   \n",
       "\n",
       "  Trip Route Category  \n",
       "0          Round Trip  \n",
       "1          Round Trip  "
      ]
     },
     "execution_count": 5,
     "metadata": {},
     "output_type": "execute_result"
    }
   ],
   "source": [
    "data_bikes[\"Bike ID\"] = data_bikes[\"Bike ID\"].astype(\"int\")\n",
    "data_bikes[\"Starting Station ID\"] = data_bikes[\"Starting Station ID\"].astype(\"int\")\n",
    "data_bikes[\"Ending Station ID\"] = data_bikes[\"Ending Station ID\"].astype(\"int\")\n",
    "data_bikes[\"Plan Duration\"] = data_bikes[\"Plan Duration\"].astype(\"int\")\n",
    "data_bikes[\"Start Time\"] = [datetime.strptime(x,'%Y-%m-%dT%X') for x in data_bikes[\"Start Time\"]]\n",
    "data_bikes[\"End Time\"] = [datetime.strptime(x,'%Y-%m-%dT%X') for x in data_bikes[\"End Time\"]]\n",
    "data_bikes.head(2)"
   ]
  },
  {
   "cell_type": "markdown",
   "metadata": {},
   "source": [
    "### B2. Cleaning phase\n",
    "Describe the type and the value range of each attribute. Indicate and transform the attributes that are `Categorical`. Are there redundant columns in the dataset (i.e., are there columns whose value depends only on the value of another column)? What are the possible pitfalls of having such columns? Reduce *data redundancy* by extracting such columns to separate `DataFrames`. Which of the two formats (the initial one or the one with reduced data redundancy) is more susceptible to inconsistencies? At the end print for each `Dataframe` the *type of each column* and it's *shape*."
   ]
  },
  {
   "cell_type": "code",
   "execution_count": 6,
   "metadata": {},
   "outputs": [
    {
     "name": "stdout",
     "output_type": "stream",
     "text": [
      "Float Based Variables:\n"
     ]
    },
    {
     "data": {
      "text/html": [
       "<div>\n",
       "<style scoped>\n",
       "    .dataframe tbody tr th:only-of-type {\n",
       "        vertical-align: middle;\n",
       "    }\n",
       "\n",
       "    .dataframe tbody tr th {\n",
       "        vertical-align: top;\n",
       "    }\n",
       "\n",
       "    .dataframe thead th {\n",
       "        text-align: right;\n",
       "    }\n",
       "</style>\n",
       "<table border=\"1\" class=\"dataframe\">\n",
       "  <thead>\n",
       "    <tr style=\"text-align: right;\">\n",
       "      <th></th>\n",
       "      <th>Duration</th>\n",
       "      <th>Starting Station Latitude</th>\n",
       "      <th>Starting Station Longitude</th>\n",
       "      <th>Ending Station Latitude</th>\n",
       "      <th>Ending Station Longitude</th>\n",
       "    </tr>\n",
       "  </thead>\n",
       "  <tbody>\n",
       "    <tr>\n",
       "      <th>count</th>\n",
       "      <td>130715.000000</td>\n",
       "      <td>130715.000000</td>\n",
       "      <td>130715.000000</td>\n",
       "      <td>130715.000000</td>\n",
       "      <td>130715.000000</td>\n",
       "    </tr>\n",
       "    <tr>\n",
       "      <th>mean</th>\n",
       "      <td>1355.489577</td>\n",
       "      <td>34.039217</td>\n",
       "      <td>-118.221174</td>\n",
       "      <td>34.034565</td>\n",
       "      <td>-118.206422</td>\n",
       "    </tr>\n",
       "    <tr>\n",
       "      <th>std</th>\n",
       "      <td>4674.172366</td>\n",
       "      <td>0.532694</td>\n",
       "      <td>1.849996</td>\n",
       "      <td>0.652348</td>\n",
       "      <td>2.265617</td>\n",
       "    </tr>\n",
       "    <tr>\n",
       "      <th>min</th>\n",
       "      <td>60.000000</td>\n",
       "      <td>0.000000</td>\n",
       "      <td>-118.472832</td>\n",
       "      <td>0.000000</td>\n",
       "      <td>-118.472832</td>\n",
       "    </tr>\n",
       "    <tr>\n",
       "      <th>25%</th>\n",
       "      <td>360.000000</td>\n",
       "      <td>34.044170</td>\n",
       "      <td>-118.256980</td>\n",
       "      <td>34.044159</td>\n",
       "      <td>-118.256981</td>\n",
       "    </tr>\n",
       "    <tr>\n",
       "      <th>50%</th>\n",
       "      <td>600.000000</td>\n",
       "      <td>34.046822</td>\n",
       "      <td>-118.250954</td>\n",
       "      <td>34.046810</td>\n",
       "      <td>-118.250954</td>\n",
       "    </tr>\n",
       "    <tr>\n",
       "      <th>75%</th>\n",
       "      <td>1080.000000</td>\n",
       "      <td>34.050880</td>\n",
       "      <td>-118.241562</td>\n",
       "      <td>34.050480</td>\n",
       "      <td>-118.238810</td>\n",
       "    </tr>\n",
       "    <tr>\n",
       "      <th>max</th>\n",
       "      <td>86400.000000</td>\n",
       "      <td>34.064281</td>\n",
       "      <td>0.000000</td>\n",
       "      <td>34.064281</td>\n",
       "      <td>0.000000</td>\n",
       "    </tr>\n",
       "  </tbody>\n",
       "</table>\n",
       "</div>"
      ],
      "text/plain": [
       "            Duration  Starting Station Latitude  Starting Station Longitude  \\\n",
       "count  130715.000000              130715.000000               130715.000000   \n",
       "mean     1355.489577                  34.039217                 -118.221174   \n",
       "std      4674.172366                   0.532694                    1.849996   \n",
       "min        60.000000                   0.000000                 -118.472832   \n",
       "25%       360.000000                  34.044170                 -118.256980   \n",
       "50%       600.000000                  34.046822                 -118.250954   \n",
       "75%      1080.000000                  34.050880                 -118.241562   \n",
       "max     86400.000000                  34.064281                    0.000000   \n",
       "\n",
       "       Ending Station Latitude  Ending Station Longitude  \n",
       "count            130715.000000             130715.000000  \n",
       "mean                 34.034565               -118.206422  \n",
       "std                   0.652348                  2.265617  \n",
       "min                   0.000000               -118.472832  \n",
       "25%                  34.044159               -118.256981  \n",
       "50%                  34.046810               -118.250954  \n",
       "75%                  34.050480               -118.238810  \n",
       "max                  34.064281                  0.000000  "
      ]
     },
     "execution_count": 6,
     "metadata": {},
     "output_type": "execute_result"
    }
   ],
   "source": [
    "print(\"Float Based Variables:\")\n",
    "data_bikes[[\"Duration\",\n",
    "            \"Starting Station Latitude\",\"Starting Station Longitude\",\n",
    "            \"Ending Station Latitude\",\"Ending Station Longitude\"]].describe(include = \"all\")"
   ]
  },
  {
   "cell_type": "code",
   "execution_count": 7,
   "metadata": {},
   "outputs": [
    {
     "name": "stdout",
     "output_type": "stream",
     "text": [
      "TimeStamp Based Variables:\n"
     ]
    },
    {
     "data": {
      "text/html": [
       "<div>\n",
       "<style scoped>\n",
       "    .dataframe tbody tr th:only-of-type {\n",
       "        vertical-align: middle;\n",
       "    }\n",
       "\n",
       "    .dataframe tbody tr th {\n",
       "        vertical-align: top;\n",
       "    }\n",
       "\n",
       "    .dataframe thead th {\n",
       "        text-align: right;\n",
       "    }\n",
       "</style>\n",
       "<table border=\"1\" class=\"dataframe\">\n",
       "  <thead>\n",
       "    <tr style=\"text-align: right;\">\n",
       "      <th></th>\n",
       "      <th>Start Time</th>\n",
       "      <th>End Time</th>\n",
       "    </tr>\n",
       "  </thead>\n",
       "  <tbody>\n",
       "    <tr>\n",
       "      <th>count</th>\n",
       "      <td>130715</td>\n",
       "      <td>130715</td>\n",
       "    </tr>\n",
       "    <tr>\n",
       "      <th>unique</th>\n",
       "      <td>96991</td>\n",
       "      <td>89870</td>\n",
       "    </tr>\n",
       "    <tr>\n",
       "      <th>top</th>\n",
       "      <td>2016-07-14 11:38:00</td>\n",
       "      <td>2016-08-13 13:42:00</td>\n",
       "    </tr>\n",
       "    <tr>\n",
       "      <th>freq</th>\n",
       "      <td>15</td>\n",
       "      <td>14</td>\n",
       "    </tr>\n",
       "    <tr>\n",
       "      <th>first</th>\n",
       "      <td>2016-07-07 04:17:00</td>\n",
       "      <td>2016-07-07 04:20:00</td>\n",
       "    </tr>\n",
       "    <tr>\n",
       "      <th>last</th>\n",
       "      <td>2017-03-31 23:45:00</td>\n",
       "      <td>2017-04-01 18:15:00</td>\n",
       "    </tr>\n",
       "  </tbody>\n",
       "</table>\n",
       "</div>"
      ],
      "text/plain": [
       "                 Start Time             End Time\n",
       "count                130715               130715\n",
       "unique                96991                89870\n",
       "top     2016-07-14 11:38:00  2016-08-13 13:42:00\n",
       "freq                     15                   14\n",
       "first   2016-07-07 04:17:00  2016-07-07 04:20:00\n",
       "last    2017-03-31 23:45:00  2017-04-01 18:15:00"
      ]
     },
     "execution_count": 7,
     "metadata": {},
     "output_type": "execute_result"
    }
   ],
   "source": [
    "print(\"TimeStamp Based Variables:\")\n",
    "data_bikes[[\"Start Time\",\"End Time\"]].describe()"
   ]
  },
  {
   "cell_type": "code",
   "execution_count": 8,
   "metadata": {},
   "outputs": [
    {
     "name": "stdout",
     "output_type": "stream",
     "text": [
      "Categorical Variables: \n"
     ]
    },
    {
     "data": {
      "text/html": [
       "<div>\n",
       "<style scoped>\n",
       "    .dataframe tbody tr th:only-of-type {\n",
       "        vertical-align: middle;\n",
       "    }\n",
       "\n",
       "    .dataframe tbody tr th {\n",
       "        vertical-align: top;\n",
       "    }\n",
       "\n",
       "    .dataframe thead th {\n",
       "        text-align: right;\n",
       "    }\n",
       "</style>\n",
       "<table border=\"1\" class=\"dataframe\">\n",
       "  <thead>\n",
       "    <tr style=\"text-align: right;\">\n",
       "      <th></th>\n",
       "      <th>Trip Route Category</th>\n",
       "      <th>Bike ID</th>\n",
       "      <th>Trip ID</th>\n",
       "      <th>Passholder Type</th>\n",
       "      <th>Ending Station ID</th>\n",
       "      <th>Starting Station ID</th>\n",
       "      <th>Plan Duration</th>\n",
       "    </tr>\n",
       "  </thead>\n",
       "  <tbody>\n",
       "    <tr>\n",
       "      <th>count</th>\n",
       "      <td>130715</td>\n",
       "      <td>130715</td>\n",
       "      <td>130715</td>\n",
       "      <td>130715</td>\n",
       "      <td>130715</td>\n",
       "      <td>130715</td>\n",
       "      <td>130715</td>\n",
       "    </tr>\n",
       "    <tr>\n",
       "      <th>unique</th>\n",
       "      <td>2</td>\n",
       "      <td>762</td>\n",
       "      <td>130715</td>\n",
       "      <td>3</td>\n",
       "      <td>66</td>\n",
       "      <td>66</td>\n",
       "      <td>3</td>\n",
       "    </tr>\n",
       "    <tr>\n",
       "      <th>top</th>\n",
       "      <td>One Way</td>\n",
       "      <td>4727</td>\n",
       "      <td>23732455</td>\n",
       "      <td>Monthly Pass</td>\n",
       "      <td>3005</td>\n",
       "      <td>3069</td>\n",
       "      <td>30</td>\n",
       "    </tr>\n",
       "    <tr>\n",
       "      <th>freq</th>\n",
       "      <td>118083</td>\n",
       "      <td>309</td>\n",
       "      <td>1</td>\n",
       "      <td>80517</td>\n",
       "      <td>6245</td>\n",
       "      <td>5059</td>\n",
       "      <td>80517</td>\n",
       "    </tr>\n",
       "  </tbody>\n",
       "</table>\n",
       "</div>"
      ],
      "text/plain": [
       "       Trip Route Category  Bike ID   Trip ID Passholder Type  \\\n",
       "count               130715   130715    130715          130715   \n",
       "unique                   2      762    130715               3   \n",
       "top                One Way     4727  23732455    Monthly Pass   \n",
       "freq                118083      309         1           80517   \n",
       "\n",
       "        Ending Station ID  Starting Station ID  Plan Duration  \n",
       "count              130715               130715         130715  \n",
       "unique                 66                   66              3  \n",
       "top                  3005                 3069             30  \n",
       "freq                 6245                 5059          80517  "
      ]
     },
     "execution_count": 8,
     "metadata": {},
     "output_type": "execute_result"
    }
   ],
   "source": [
    "print(\"Categorical Variables: \")\n",
    "categorical_vars = [\"Trip Route Category\",\"Bike ID\",\"Trip ID\",\"Passholder Type\",\"Ending Station ID\",\"Starting Station ID\",\"Plan Duration\"]\n",
    "for k in categorical_vars:\n",
    "    data_bikes[k] = data_bikes[k].astype('category') \n",
    "\n",
    "data_bikes[categorical_vars].describe()"
   ]
  },
  {
   "cell_type": "code",
   "execution_count": 10,
   "metadata": {},
   "outputs": [
    {
     "name": "stdout",
     "output_type": "stream",
     "text": [
      "Redundant Columns: \n",
      "\t Shape:  (130715, 3)\n",
      "\t Dtypes : Duration                  int64\n",
      "\t\tTrip Route Category    category\n",
      "\t\tPlan Duration          category\n",
      "\t\tdtype: object\n",
      "\n",
      "Non-Redundant Data: \n",
      "\t Shape:  (130715, 12)\n",
      "\t Dtypes : index                                  int64\n",
      "\t\tBike ID                             category\n",
      "\t\tEnd Time                      datetime64[ns]\n",
      "\t\tEnding Station ID                   category\n",
      "\t\tEnding Station Latitude              float64\n",
      "\t\tEnding Station Longitude             float64\n",
      "\t\tPassholder Type                     category\n",
      "\t\tStart Time                    datetime64[ns]\n",
      "\t\tStarting Station ID                 category\n",
      "\t\tStarting Station Latitude            float64\n",
      "\t\tStarting Station Longitude           float64\n",
      "\t\tTrip ID                             category\n",
      "\t\tdtype: object\n"
     ]
    }
   ],
   "source": [
    "redundancies = data_bikes[[\"Duration\",\"Trip Route Category\",\"Plan Duration\"]]\n",
    "data_non_redundant = data_bikes.drop([\"Duration\",\"Trip Route Category\",\"Plan Duration\"],axis=1)\n",
    "print(\"Redundant Columns: \")\n",
    "print(\"\\t Shape:  %s\"%str(redundancies.shape))\n",
    "print(\"\\t Dtypes : %s\"%str(redundancies.dtypes).replace(\"\\n\",\"\\n\\t\\t\"))\n",
    "print(\"\\nNon-Redundant Data: \")\n",
    "print(\"\\t Shape:  %s\"%str(data_non_redundant.shape)) \n",
    "print(\"\\t Dtypes : %s\"%str(data_non_redundant.dtypes).replace(\"\\n\",\"\\n\\t\\t\"))"
   ]
  },
  {
   "cell_type": "markdown",
   "metadata": {},
   "source": [
    "__\\* Briefly explain your approach here \\*__"
   ]
  },
  {
   "cell_type": "markdown",
   "metadata": {},
   "source": [
    "Variable descriptions are obtained via the pandas describe methods that is individually applied for each group of variables. It should also be noted that trips corresponding to staff users (0.3% of all trips) were removed as they were assumed not to be fully representative of a regular user behaviour. Furthermore, regular users trips which metadata contained NaN values accounted for 1% of rows in the original dataset and were also subsequently discarded. This preprocessing simplifies further analysis.\n",
    "There are three redundant columns in the dataset:\n",
    "    - The duration of the trip which can be estiamted from the starting and ending time of a given trip\n",
    "    - The trip route category which is \"Round Trip\" if the starting station IP is identical to the ending station one and \"One Way\" else\n",
    "    - The plan duration which can be directly infered from the passholder type attribute\n",
    "\n",
    "Keeping redundant data increases needlessly the total size of the dataset and the risk of having inconsistencies in the data (for instance if the trip duration doesn't exactly match the time difference between the ending and starting time of the trip). These inconsistencies can nonetheless be helpful for identifying faulty or unreliable portions of the dataset. "
   ]
  },
  {
   "cell_type": "markdown",
   "metadata": {},
   "source": [
    "### B3. Querying phase\n",
    "Answer the following queries using the functionality of `Pandas`.\n",
    "\n",
    "1. Plot the *distribution* of the number of outgoing trips from each station in a histogram with 20 bins (Hint: each bin describes a range of counts, not stations).\n",
    "* Plot histograms for the *duration* and *trip starting hour in the day* attributes. For both the *duration*  and the *trip starting hour* use *discrete 1-hour intervals*. What do you observe in each plot? What are some popular values in the *duration* plot? Explain the local maxima and the trends you observe on the *trip starting hour* plot based on human behavior.\n",
    "* For each *trip route category*, calculate the proportion of trips by *passholder type* and present your results in *a stacked bar chart with normalized height*.\n",
    "* Considering only trips that begin in the morning hours (before noon), plot in *a single bar chart* the proportion of trips by *passholder type* and *trip route category*. Explain any outliers you observe.\n",
    "* Separate the hours of the day into two intervals that have (approximately) the same number of bikes leaving the stations. For each of the two intervals calculate the proportion of trips by *passholder type* and *trip route category*. Present your results in a `DataFrame` which has a unique, non-composite index. Does the proportion of trips depend on whether it is the first or second hour interval? Would the company have any significant benefit by creating a more complex paying scheme where monthly pass users would pay less in the first interval and (equally) more on the second one? Assume that the number of trips per interval will not change if the scheme changes."
   ]
  },
  {
   "cell_type": "code",
   "execution_count": 11,
   "metadata": {},
   "outputs": [
    {
     "data": {
      "image/png": "[encoded data removed]",
      "text/plain": [
       "<matplotlib.figure.Figure at 0x119052e10>"
      ]
     },
     "metadata": {},
     "output_type": "display_data"
    }
   ],
   "source": [
    "import matplotlib.pyplot as plt\n",
    "import matplotlib.patches as mpatches\n",
    "from collections import Counter\n",
    "\n",
    "% matplotlib inline\n",
    "\n",
    "colors= [\"navy\",\"royalblue\",\"steelblue\",\"lightsteelblue\"]\n",
    "fig, axes = plt.subplots(nrows=2, ncols=3,figsize=(20,10))\n",
    "\n",
    "axes[0,0].hist(list(Counter(data_bikes[\"Starting Station ID\"]).values()),bins=20,rwidth = 0.8);\n",
    "axes[0,0].set_xlabel(\"Number of ougoing trips \");\n",
    "axes[0,0].set_ylabel(\"Frequency\");\n",
    "axes[0,0].set_title(\"Q1\");\n",
    "\n",
    "time_start = [x.hour for x in data_bikes[\"Start Time\"]]\n",
    "axes[0,1].hist(time_start,bins=20,rwidth = 0.8);\n",
    "axes[0,1].set_xlabel(\"Starting Hour\");\n",
    "axes[0,1].set_ylabel(\"Frequency\");\n",
    "axes[0,1].set_title(\"Q2a\");\n",
    "\n",
    "durations = data_bikes[\"Duration\"]//3600\n",
    "axes[0,2].hist(durations,bins=20,rwidth = 0.8,log=True);\n",
    "axes[0,2].set_xlabel(\"Trip Duration (h)\");\n",
    "axes[0,2].set_ylabel(\"Frequency\");\n",
    "axes[0,2].set_title(\"Q2b\");\n",
    "\n",
    "x = (data_bikes.groupby([\"Trip Route Category\",\"Passholder Type\",])).size().groupby(level=0).apply(\n",
    "    lambda x:  x / x.sum()\n",
    ")\n",
    "x.unstack().plot(kind='bar',stacked=True, color=colors, grid=False,ax=axes[1,0]);\n",
    "axes[1,0].set_ylabel(\"Proportion of Trips\");\n",
    "axes[1,0].set_title(\"Q3\");\n",
    "\n",
    "noon = 12\n",
    "x = (data_bikes[[x.hour < noon for x in data_bikes[\"Start Time\"]]].groupby([\"Trip Route Category\",\"Passholder Type\",])).size().groupby(level=0).apply(\n",
    "    lambda x:  x / x.sum()\n",
    ")\n",
    "x.unstack().plot(kind='bar',stacked=False, color=colors, grid=False,ax=axes[1,1]);\n",
    "axes[1,1].set_ylabel(\"Proportion of Trips\");\n",
    "axes[1,1].set_title(\"Q4\");\n",
    "\n",
    "sta_hr = Counter([x.hour for x in data_bikes[\"Start Time\"]])\n",
    "red_patch = mpatches.Patch(color='red', label='Interval 1')\n",
    "blue_patch = mpatches.Patch(color='blue', label='Interval 0')\n",
    "\n",
    "df = pd.DataFrame.from_dict(list(sta_hr.items()))\n",
    "df.columns = ['Hour', 'Trips']\n",
    "df.set_index('Hour',inplace=True)\n",
    "df.sort_index(inplace=True)\n",
    "new_df = (df.cumsum()/df.sum()).reset_index()\n",
    "axes[1,2].bar(new_df.Hour,new_df.Trips,color = [\"red\" if k>14 else \"blue\"for k in range(24)  ]);\n",
    "axes[1,2].plot([0,23],[0.5,0.5],\"red\")\n",
    "axes[1,2].set_xlabel(\"Hour\");\n",
    "axes[1,2].set_ylabel(\"Proportion of Trips\");\n",
    "axes[1,2].legend(handles=[blue_patch,red_patch]);\n",
    "axes[1,2].set_title(\"Q5\");"
   ]
  },
  {
   "cell_type": "code",
   "execution_count": 12,
   "metadata": {
    "scrolled": false
   },
   "outputs": [
    {
     "data": {
      "text/html": [
       "<div>\n",
       "<style scoped>\n",
       "    .dataframe tbody tr th:only-of-type {\n",
       "        vertical-align: middle;\n",
       "    }\n",
       "\n",
       "    .dataframe tbody tr th {\n",
       "        vertical-align: top;\n",
       "    }\n",
       "\n",
       "    .dataframe thead th {\n",
       "        text-align: right;\n",
       "    }\n",
       "</style>\n",
       "<table border=\"1\" class=\"dataframe\">\n",
       "  <thead>\n",
       "    <tr style=\"text-align: right;\">\n",
       "      <th></th>\n",
       "      <th>Passholder Type</th>\n",
       "      <th>Flex Pass</th>\n",
       "      <th>Monthly Pass</th>\n",
       "      <th>Walk-up</th>\n",
       "    </tr>\n",
       "    <tr>\n",
       "      <th>Trip Route Category</th>\n",
       "      <th>Hour Category</th>\n",
       "      <th></th>\n",
       "      <th></th>\n",
       "      <th></th>\n",
       "    </tr>\n",
       "  </thead>\n",
       "  <tbody>\n",
       "    <tr>\n",
       "      <th rowspan=\"2\" valign=\"top\">One Way</th>\n",
       "      <th>0</th>\n",
       "      <td>0.074338</td>\n",
       "      <td>0.641012</td>\n",
       "      <td>0.284650</td>\n",
       "    </tr>\n",
       "    <tr>\n",
       "      <th>1</th>\n",
       "      <td>0.077657</td>\n",
       "      <td>0.660005</td>\n",
       "      <td>0.262339</td>\n",
       "    </tr>\n",
       "    <tr>\n",
       "      <th rowspan=\"2\" valign=\"top\">Round Trip</th>\n",
       "      <th>0</th>\n",
       "      <td>0.034891</td>\n",
       "      <td>0.273612</td>\n",
       "      <td>0.691496</td>\n",
       "    </tr>\n",
       "    <tr>\n",
       "      <th>1</th>\n",
       "      <td>0.041422</td>\n",
       "      <td>0.311747</td>\n",
       "      <td>0.646832</td>\n",
       "    </tr>\n",
       "  </tbody>\n",
       "</table>\n",
       "</div>"
      ],
      "text/plain": [
       "Passholder Type                    Flex Pass  Monthly Pass   Walk-up\n",
       "Trip Route Category Hour Category                                   \n",
       "One Way             0               0.074338      0.641012  0.284650\n",
       "                    1               0.077657      0.660005  0.262339\n",
       "Round Trip          0               0.034891      0.273612  0.691496\n",
       "                    1               0.041422      0.311747  0.646832"
      ]
     },
     "execution_count": 12,
     "metadata": {},
     "output_type": "execute_result"
    }
   ],
   "source": [
    "hour_threshold = 14\n",
    "data_bikes[\"Hour Category\"] = [int(x.hour<=hour_threshold) for x in data_bikes[\"Start Time\"]]\n",
    "x = (data_bikes.groupby([\"Trip Route Category\",\"Hour Category\",\"Passholder Type\",])).size().groupby(level=0).apply(\n",
    "    lambda x:  x / x.sum()\n",
    ").unstack()\n",
    "x.div(x.sum(axis=1), axis=0)\n"
   ]
  },
  {
   "cell_type": "markdown",
   "metadata": {},
   "source": [
    "__\\* Briefly explain your approach for every query here \\*__"
   ]
  },
  {
   "cell_type": "markdown",
   "metadata": {},
   "source": [
    "__Q1:__ We compute the distribution of the number of outgoing trips from each station by plotting the histogram of the number of trips for each given station ID (which uniquely identifies each station). We see that outgoing traffic is not distributed homogeneously across stations as the bottom 30% of all stations accumulates 1% of all otugoing trips while the top 30% accumulates 73% of all trips (see <a id='App_2.1'>Appendix 2.1</a>)\n",
    "\n",
    "__Q2: Trip starting hour:__ The distribution of the number of starting trips per hour of the day clearly shows a circadian pattern that closely follows known daily human activity patterns  with low activity recorded during night-time and increasingly high activity from morning to afternoon hours. Several interesting discontinuities are worth noticing: First, the peak between 7 and 8 AM clearly shows bike users using the bikes to go to work/study as the peak dies out immediately after 8 AM. The gradual increase in number of trips until noon reveals people moving from their work to lunch sites other reasons can be considered. The highest peak in usage is recorded between 4 and 5 PM when people are likely to be leaving their workplace and take the bike for doing so. Interestingly, some people apparently chose to use the bike only in the afternoon and not in  the morning as the difference between the two aforementioned peaks suggests. Finally, it is also worth noticing the increase of usage during late night (11 -12 PM) when users are likely to have used the bike system to return home from places of leisure. A closer study of the distance from a user's home location might give a better insight on what users are taking the bikes for. \n",
    "\n",
    "__Q2: Duration:__ We immediately notice that the duration distribution is clearly a power-law with most (>99%) trips lasting less than an hour. This can be understood through the most frequent usage plans seen in the dataset (Monthly Pass, around 60 % and Walk up Pass at around 31% of all subscriptions observed) for which all rides lasting 30 minutes or less are free (over that duration, a [charge](https://bikeshare.metro.net/pricing/) is applied to the user ). The peak corresponding to the 24h duration is explained by the fact that trip lengths are capped at 24 hours as detailed [here](https://bikeshare.metro.net/about/data/).\n",
    "\n",
    "\n",
    "__Q3:__ In order to compute the sought stack barplot, we group the dataframe by both categories under study and the compute the proportion of trips for each of the categories.\n",
    "\n",
    "__Q4:__ When considering only trips beginning before noon, we see that flex pass users are the least represented users when considering both one-way and round trips. We also notice that the before noon user composition changes depending on whether each of the aforementioned trips is considered: users with monthly passes are more prone to perform one-way trips that users with walk-up passes while conversely users with walk-up passes are the likeliest ones to do round-trips. This actually provides a nice insight on what each suscription mode is supposed to be used for: montly passes  are generally used for daily routines such as home to work and work to home trips as well as general movement around the city where the user will spend some time at his target location. Walk-up passes are probably meant for sightseeing and thus users relying on them tour a given location with the city bikes and end the trip at the same station they started it from. \n",
    "\n",
    "__Q5:__ The hour used to separate both intervals is chosen based on the cumulative distribution of user trips (see plot Q5 above): it corresponds the bin closest to the median of the distribution (red line) and is set at 2 PM. By computed the sought statistics, we observe proportions vary roughy from 0.3% to 5% depending on whether trips from the irst or second hour interval are considered. Regarding the proposed paying scheme, we observe that monthly pass users are 2 to 4 % more represented from the first to the second hour interval so we may argue that there is some sense in introducing such a scheme. However, it is worth recalling that such a pricing difference would affect only trips lasting more than 30 minutes (since up until then the cost of the trip is none). Since less than 4% of all trips made my monthly pass users last more than 30 minutes (see <a id='App_2.2'>Appendix 2.2</a>) it seems unnecessary to modify the pricing scheme."
   ]
  },
  {
   "cell_type": "markdown",
   "metadata": {},
   "source": [
    "# Appendix"
   ]
  },
  {
   "cell_type": "markdown",
   "metadata": {},
   "source": [
    "[]((#App_2.1)\n",
    "\n",
    "## Question 1 "
   ]
  },
  {
   "cell_type": "code",
   "execution_count": 13,
   "metadata": {},
   "outputs": [
    {
     "name": "stdout",
     "output_type": "stream",
     "text": [
      "Bottom 30% accumulates 1% of all trips\n",
      "Top 30% accumulates 73% of all trips\n"
     ]
    },
    {
     "data": {
      "image/png": "[encoded data removed]",
      "text/plain": [
       "<matplotlib.figure.Figure at 0x12a2d64a8>"
      ]
     },
     "metadata": {},
     "output_type": "display_data"
    }
   ],
   "source": [
    "nb_stat,nb_trips,_ = plt.hist(list(Counter(data_bikes[\"Starting Station ID\"].dropna(how=\"any\")).values()),bins=20,rwidth = 0.8);\n",
    "cum_nb_stat = np.cumsum(nb_stat)\n",
    "bott,top=3,10\n",
    "print(\"Bottom %d%% accumulates %d%% of all trips\"%(100*(cum_nb_stat[bott])/np.sum(nb_stat),100*np.sum(nb_trips[:bott])/np.sum(nb_trips)))\n",
    "print(\"Top %d%% accumulates %d%% of all trips\"%(100*np.sum(nb_stat[-top:])/np.sum(nb_stat),100*np.sum(nb_trips[-top:])/np.sum(nb_trips)))\n"
   ]
  },
  {
   "cell_type": "markdown",
   "metadata": {},
   "source": [
    "[]((#App_2.5)\n",
    "\n",
    "## Question 5"
   ]
  },
  {
   "cell_type": "code",
   "execution_count": 14,
   "metadata": {},
   "outputs": [
    {
     "name": "stdout",
     "output_type": "stream",
     "text": [
      "3.27 % of al montly users use the bikes for more than 30 minutes\n"
     ]
    }
   ],
   "source": [
    "durations = data_bikes[\"Duration\"][data_bikes[\"Passholder Type\"]==\"Monthly Pass\"]//60\n",
    "print (\"%.2f %% of al montly users use the bikes for more than 30 minutes\"%(np.sum(durations>30)/len(durations)*100))"
   ]
  },
  {
   "cell_type": "code",
   "execution_count": null,
   "metadata": {
    "collapsed": true
   },
   "outputs": [],
   "source": []
  }
 ],
 "metadata": {
  "kernelspec": {
   "display_name": "Python 3",
   "language": "python",
   "name": "python3"
  },
  "language_info": {
   "codemirror_mode": {
    "name": "ipython",
    "version": 3
   },
   "file_extension": ".py",
   "mimetype": "text/x-python",
   "name": "python",
   "nbconvert_exporter": "python",
   "pygments_lexer": "ipython3",
   "version": "3.6.3"
  },
  "toc": {
   "base_numbering": 1,
   "nav_menu": {},
   "number_sections": true,
   "sideBar": true,
   "skip_h1_title": false,
   "title_cell": "Table of Contents",
   "title_sidebar": "Contents",
   "toc_cell": false,
   "toc_position": {},
   "toc_section_display": true,
   "toc_window_display": false
  }
 },
 "nbformat": 4,
 "nbformat_minor": 2
}
